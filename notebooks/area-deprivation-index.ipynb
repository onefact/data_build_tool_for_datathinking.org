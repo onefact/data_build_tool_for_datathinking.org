{
 "cells": [
  {
   "cell_type": "markdown",
   "metadata": {},
   "source": [
    "# Data download\n",
    "\n",
    "https://www.neighborhoodatlas.medicine.wisc.edu/"
   ]
  },
  {
   "cell_type": "code",
   "execution_count": 1,
   "metadata": {},
   "outputs": [],
   "source": [
    "# Load duckdb, which lets us efficiently load large files\n",
    "import duckdb\n",
    "\n",
    "# Load pandas, which lets us manipulate dataframes\n",
    "import pandas as pd\n",
    "\n",
    "# Load polars, which enables loading of parquet files\n",
    "import polars as pl\n",
    "\n",
    "# Import jupysql Jupyter extension to create SQL cells\n",
    "%load_ext sql\n",
    "\n",
    "# Set configrations on jupysql to directly output data to Pandas and to simplify the output that is printed to the notebook.\n",
    "%config SqlMagic.autopandas = True\n",
    "\n",
    "%config SqlMagic.feedback = False\n",
    "%config SqlMagic.displaycon = False\n",
    "\n",
    "# Connect jupysql to DuckDB using a SQLAlchemy-style connection string. Either connect to an in memory DuckDB, or a file backed db.\n",
    "%sql duckdb:///:memory:"
   ]
  },
  {
   "cell_type": "markdown",
   "metadata": {},
   "source": [
    "## Minimal duckdb query to standardize the ADI file \n",
    "\n",
    "Prompt for Claude:\n",
    "\n",
    "```\n",
    "%%sql\n",
    "SELECT *\n",
    "FROM read_csv('https://data.cityofnewyork.us/api/views/erm2-nwe9/rows.csv?accessType=DOWNLOAD',\n",
    "    header=True,\n",
    "    delim=',',\n",
    "    quote='\"',\n",
    "    columns={'Unique Key': 'BIGINT',\n",
    "    'Created Date': 'VARCHAR',\n",
    "    'Closed Date': 'VARCHAR',\n",
    "    'Agency': 'VARCHAR',\n",
    "    'Agency Name': 'VARCHAR',\n",
    "    'Complaint Type': 'VARCHAR',\n",
    "    'Descriptor': 'VARCHAR',\n",
    "    'Location Type': 'VARCHAR',\n",
    "    'Incident Zip': 'VARCHAR',\n",
    "    'Incident Address': 'VARCHAR',\n",
    "    'Street Name': 'VARCHAR',\n",
    "    'Cross Street 1': 'VARCHAR',\n",
    "    'Cross Street 2': 'VARCHAR',\n",
    "    'Intersection Street 1': 'VARCHAR',\n",
    "    'Intersection Street 2': 'VARCHAR',\n",
    "    'Address Type': 'VARCHAR',\n",
    "    'City': 'VARCHAR',\n",
    "    'Landmark': 'VARCHAR',\n",
    "    'Facility Type': 'VARCHAR',\n",
    "    'Status': 'VARCHAR',\n",
    "    'Due Date': 'VARCHAR',\n",
    "    'Resolution Description': 'VARCHAR',\n",
    "    'Resolution Action Updated Date': 'VARCHAR',\n",
    "    'Community Board': 'VARCHAR',\n",
    "    'BBL': 'VARCHAR',\n",
    "    'Borough': 'VARCHAR',\n",
    "    'X Coordinate (State Plane)': 'VARCHAR',\n",
    "    'Y Coordinate (State Plane)': 'VARCHAR',\n",
    "    'Open Data Channel Type': 'VARCHAR',\n",
    "    'Park Facility Name': 'VARCHAR',\n",
    "    'Park Borough': 'VARCHAR',\n",
    "    'Vehicle Type': 'VARCHAR',\n",
    "    'Taxi Company Borough': 'VARCHAR',\n",
    "    'Taxi Pick Up Location': 'VARCHAR',\n",
    "    'Bridge Highway Name': 'VARCHAR',\n",
    "    'Bridge Highway Direction': 'VARCHAR',\n",
    "    'Road Ramp': 'VARCHAR',\n",
    "    'Bridge Highway Segment': 'VARCHAR',\n",
    "    'Latitude': 'DOUBLE',\n",
    "    'Longitude': 'DOUBLE',\n",
    "    'Location': 'VARCHAR'}) \n",
    "LIMIT 10;\n",
    "\n",
    "Please use the above query example and rewrite it for the file at `/Users/me/Downloads/adi-download/US_2021_ADI_Census\\ Block\\ Group_v4.csv` that has the following header:\n",
    "\n",
    "```\"\",\"GISJOIN\",\"ADI_NATRANK\",\"ADI_STATERNK\",\"FIPS\"\n",
    "\"1\",\"G01000100201001\",\"74\",\"5\",\"010010201001\"\n",
    "\"2\",\"G01000100201002\",\"74\",\"5\",\"010010201002\"\n",
    "\"3\",\"G01000100202001\",\"84\",\"7\",\"010010202001\"\n",
    "\"4\",\"G01000100202002\",\"84\",\"7\",\"010010202002\"\n",
    "\"5\",\"G01000100203001\",\"79\",\"6\",\"010010203001\"\n",
    "\"6\",\"G01000100203002\",\"79\",\"6\",\"010010203002\"\n",
    "\"7\",\"G01000100204001\",\"64\",\"3\",\"010010204001\"\n",
    "\"8\",\"G01000100204002\",\"64\",\"3\",\"010010204002\"\n",
    "\"9\",\"G01000100204003\",\"64\",\"3\",\"010010204003\"\n",
    "```\n",
    "```"
   ]
  },
  {
   "cell_type": "code",
   "execution_count": 3,
   "metadata": {},
   "outputs": [
    {
     "name": "stdout",
     "output_type": "stream",
     "text": [
      "2021 Block Group ADI Files v4.0\n",
      "\n",
      "These files contain a linkage between the Census block group and the ADI score.\n",
      "The file contains four relevant fields:\n",
      "- GISJOIN: Key linkage field to the block group shapefile served by NHGIS\n",
      "- FIPS: The block group Census ID\n",
      "- ADI_NATRANK: National percentile of block group ADI score\n",
      "- ADI_STATERNK: State-specific decile of block group ADI score\n",
      "\n",
      "\n"
     ]
    }
   ],
   "source": [
    "!head /Users/me/Downloads/adi-download/2021\\ ADI_Census\\ Block\\ Group_v4.0_ReadMe.txt"
   ]
  },
  {
   "cell_type": "code",
   "execution_count": 4,
   "metadata": {},
   "outputs": [
    {
     "name": "stdout",
     "output_type": "stream",
     "text": [
      "\"\",\"GISJOIN\",\"ADI_NATRANK\",\"ADI_STATERNK\",\"FIPS\"\n",
      "\"1\",\"G01000100201001\",\"74\",\"5\",\"010010201001\"\n",
      "\"2\",\"G01000100201002\",\"74\",\"5\",\"010010201002\"\n",
      "\"3\",\"G01000100202001\",\"84\",\"7\",\"010010202001\"\n",
      "\"4\",\"G01000100202002\",\"84\",\"7\",\"010010202002\"\n",
      "\"5\",\"G01000100203001\",\"79\",\"6\",\"010010203001\"\n",
      "\"6\",\"G01000100203002\",\"79\",\"6\",\"010010203002\"\n",
      "\"7\",\"G01000100204001\",\"64\",\"3\",\"010010204001\"\n",
      "\"8\",\"G01000100204002\",\"64\",\"3\",\"010010204002\"\n",
      "\"9\",\"G01000100204003\",\"64\",\"3\",\"010010204003\"\n"
     ]
    }
   ],
   "source": [
    "!head /Users/me/Downloads/adi-download/US_2021_ADI_Census\\ Block\\ Group_v4.csv"
   ]
  },
  {
   "cell_type": "code",
   "execution_count": 14,
   "metadata": {},
   "outputs": [
    {
     "ename": "InvalidInputException",
     "evalue": "Invalid Input Error: Error in file \"/Users/me/Downloads/adi-download/US_2021_ADI_Census Block Group_v4.csv\", on line 2: expected 4 values per row, but got more. (  file=/Users/me/Downloads/adi-download/US_2021_ADI_Census Block Group_v4.csv\n  delimiter=','\n  quote='\"'\n  escape='\"' (default)\n  header=1\n  sample_size=20480\n  ignore_errors=0\n  all_varchar=0)",
     "output_type": "error",
     "traceback": [
      "\u001b[0;31m---------------------------------------------------------------------------\u001b[0m",
      "\u001b[0;31mInvalidInputException\u001b[0m                     Traceback (most recent call last)",
      "Cell \u001b[0;32mIn[14], line 1\u001b[0m\n\u001b[0;32m----> 1\u001b[0m get_ipython()\u001b[39m.\u001b[39mrun_cell_magic(\u001b[39m'\u001b[39m\u001b[39msql\u001b[39m\u001b[39m'\u001b[39m, \u001b[39m'\u001b[39m\u001b[39m'\u001b[39m, \u001b[39m'\u001b[39m\u001b[39mSELECT *\u001b[39m\u001b[39m\\n\u001b[39;00m\u001b[39mFROM read_csv(\u001b[39m\u001b[39m\\'\u001b[39;00m\u001b[39m/Users/me/Downloads/adi-download/US_2021_ADI_Census Block Group_v4.csv\u001b[39m\u001b[39m\\'\u001b[39;00m\u001b[39m, \u001b[39m\u001b[39m\\n\u001b[39;00m\u001b[39m  header=True, \u001b[39m\u001b[39m\\n\u001b[39;00m\u001b[39m  delim=\u001b[39m\u001b[39m\\'\u001b[39;00m\u001b[39m,\u001b[39m\u001b[39m\\'\u001b[39;00m\u001b[39m,\u001b[39m\u001b[39m\\n\u001b[39;00m\u001b[39m  quote=\u001b[39m\u001b[39m\\'\u001b[39;00m\u001b[39m\"\u001b[39m\u001b[39m\\'\u001b[39;00m\u001b[39m,\u001b[39m\u001b[39m\\n\u001b[39;00m\u001b[39m  columns=\u001b[39m\u001b[39m{\u001b[39m\u001b[39m\\'\u001b[39;00m\u001b[39mGISJOIN\u001b[39m\u001b[39m\\'\u001b[39;00m\u001b[39m: \u001b[39m\u001b[39m\\'\u001b[39;00m\u001b[39mVARCHAR\u001b[39m\u001b[39m\\'\u001b[39;00m\u001b[39m,\u001b[39m\u001b[39m\\n\u001b[39;00m\u001b[39m           \u001b[39m\u001b[39m\\'\u001b[39;00m\u001b[39mADI_NATRANK\u001b[39m\u001b[39m\\'\u001b[39;00m\u001b[39m: \u001b[39m\u001b[39m\\'\u001b[39;00m\u001b[39mINT\u001b[39m\u001b[39m\\'\u001b[39;00m\u001b[39m,  \u001b[39m\u001b[39m\\n\u001b[39;00m\u001b[39m           \u001b[39m\u001b[39m\\'\u001b[39;00m\u001b[39mADI_STATERNK\u001b[39m\u001b[39m\\'\u001b[39;00m\u001b[39m: \u001b[39m\u001b[39m\\'\u001b[39;00m\u001b[39mINT\u001b[39m\u001b[39m\\'\u001b[39;00m\u001b[39m,\u001b[39m\u001b[39m\\n\u001b[39;00m\u001b[39m           \u001b[39m\u001b[39m\\'\u001b[39;00m\u001b[39mFIPS\u001b[39m\u001b[39m\\'\u001b[39;00m\u001b[39m: \u001b[39m\u001b[39m\\'\u001b[39;00m\u001b[39mVARCHAR\u001b[39m\u001b[39m\\'\u001b[39;00m\u001b[39m})\u001b[39m\u001b[39m\\n\u001b[39;00m\u001b[39mLIMIT 10;\u001b[39m\u001b[39m\\n\u001b[39;00m\u001b[39m'\u001b[39m)\n",
      "File \u001b[0;32m/opt/homebrew/anaconda3/envs/datathinking.org/lib/python3.11/site-packages/IPython/core/interactiveshell.py:2475\u001b[0m, in \u001b[0;36mInteractiveShell.run_cell_magic\u001b[0;34m(self, magic_name, line, cell)\u001b[0m\n\u001b[1;32m   2473\u001b[0m \u001b[39mwith\u001b[39;00m \u001b[39mself\u001b[39m\u001b[39m.\u001b[39mbuiltin_trap:\n\u001b[1;32m   2474\u001b[0m     args \u001b[39m=\u001b[39m (magic_arg_s, cell)\n\u001b[0;32m-> 2475\u001b[0m     result \u001b[39m=\u001b[39m fn(\u001b[39m*\u001b[39margs, \u001b[39m*\u001b[39m\u001b[39m*\u001b[39mkwargs)\n\u001b[1;32m   2477\u001b[0m \u001b[39m# The code below prevents the output from being displayed\u001b[39;00m\n\u001b[1;32m   2478\u001b[0m \u001b[39m# when using magics with decodator @output_can_be_silenced\u001b[39;00m\n\u001b[1;32m   2479\u001b[0m \u001b[39m# when the last Python token in the expression is a ';'.\u001b[39;00m\n\u001b[1;32m   2480\u001b[0m \u001b[39mif\u001b[39;00m \u001b[39mgetattr\u001b[39m(fn, magic\u001b[39m.\u001b[39mMAGIC_OUTPUT_CAN_BE_SILENCED, \u001b[39mFalse\u001b[39;00m):\n",
      "File \u001b[0;32m/opt/homebrew/anaconda3/envs/datathinking.org/lib/python3.11/site-packages/sql/magic.py:287\u001b[0m, in \u001b[0;36mSqlMagic.execute\u001b[0;34m(self, line, cell, local_ns)\u001b[0m\n\u001b[1;32m    179\u001b[0m \u001b[39m@no_var_expand\u001b[39m\n\u001b[1;32m    180\u001b[0m \u001b[39m@needs_local_scope\u001b[39m\n\u001b[1;32m    181\u001b[0m \u001b[39m@line_magic\u001b[39m(\u001b[39m\"\u001b[39m\u001b[39msql\u001b[39m\u001b[39m\"\u001b[39m)\n\u001b[0;32m   (...)\u001b[0m\n\u001b[1;32m    259\u001b[0m )\n\u001b[1;32m    260\u001b[0m \u001b[39mdef\u001b[39;00m \u001b[39mexecute\u001b[39m(\u001b[39mself\u001b[39m, line\u001b[39m=\u001b[39m\u001b[39m\"\u001b[39m\u001b[39m\"\u001b[39m, cell\u001b[39m=\u001b[39m\u001b[39m\"\u001b[39m\u001b[39m\"\u001b[39m, local_ns\u001b[39m=\u001b[39m\u001b[39mNone\u001b[39;00m):\n\u001b[1;32m    261\u001b[0m \u001b[39m    \u001b[39m\u001b[39m\"\"\"\u001b[39;00m\n\u001b[1;32m    262\u001b[0m \u001b[39m    Runs SQL statement against a database, specified by\u001b[39;00m\n\u001b[1;32m    263\u001b[0m \u001b[39m    SQLAlchemy connect string.\u001b[39;00m\n\u001b[0;32m   (...)\u001b[0m\n\u001b[1;32m    285\u001b[0m \n\u001b[1;32m    286\u001b[0m \u001b[39m    \"\"\"\u001b[39;00m\n\u001b[0;32m--> 287\u001b[0m     \u001b[39mreturn\u001b[39;00m \u001b[39mself\u001b[39m\u001b[39m.\u001b[39m_execute(\n\u001b[1;32m    288\u001b[0m         line\u001b[39m=\u001b[39mline, cell\u001b[39m=\u001b[39mcell, local_ns\u001b[39m=\u001b[39mlocal_ns, is_interactive_mode\u001b[39m=\u001b[39m\u001b[39mFalse\u001b[39;00m\n\u001b[1;32m    289\u001b[0m     )\n",
      "File \u001b[0;32m/opt/homebrew/anaconda3/envs/datathinking.org/lib/python3.11/site-packages/ploomber_core/telemetry/telemetry.py:740\u001b[0m, in \u001b[0;36mTelemetry.log_call.<locals>._log_call.<locals>.wrapper\u001b[0;34m(*args, **kwargs)\u001b[0m\n\u001b[1;32m    738\u001b[0m     injected_args \u001b[39m=\u001b[39m \u001b[39mlist\u001b[39m(args)\n\u001b[1;32m    739\u001b[0m     injected_args\u001b[39m.\u001b[39minsert(\u001b[39m1\u001b[39m, _payload)\n\u001b[0;32m--> 740\u001b[0m     result \u001b[39m=\u001b[39m func(\u001b[39m*\u001b[39minjected_args, \u001b[39m*\u001b[39m\u001b[39m*\u001b[39mkwargs)\n\u001b[1;32m    741\u001b[0m \u001b[39melse\u001b[39;00m:\n\u001b[1;32m    742\u001b[0m     result \u001b[39m=\u001b[39m func(_payload, \u001b[39m*\u001b[39margs, \u001b[39m*\u001b[39m\u001b[39m*\u001b[39mkwargs)\n",
      "File \u001b[0;32m/opt/homebrew/anaconda3/envs/datathinking.org/lib/python3.11/site-packages/ploomber_core/exceptions.py:109\u001b[0m, in \u001b[0;36mmodify_exceptions.<locals>.wrapper\u001b[0;34m(*args, **kwargs)\u001b[0m\n\u001b[1;32m    106\u001b[0m \u001b[39m@wraps\u001b[39m(fn)\n\u001b[1;32m    107\u001b[0m \u001b[39mdef\u001b[39;00m \u001b[39mwrapper\u001b[39m(\u001b[39m*\u001b[39margs, \u001b[39m*\u001b[39m\u001b[39m*\u001b[39mkwargs):\n\u001b[1;32m    108\u001b[0m     \u001b[39mtry\u001b[39;00m:\n\u001b[0;32m--> 109\u001b[0m         \u001b[39mreturn\u001b[39;00m fn(\u001b[39m*\u001b[39margs, \u001b[39m*\u001b[39m\u001b[39m*\u001b[39mkwargs)\n\u001b[1;32m    110\u001b[0m     \u001b[39mexcept\u001b[39;00m (\u001b[39mValueError\u001b[39;00m, \u001b[39mTypeError\u001b[39;00m) \u001b[39mas\u001b[39;00m e:\n\u001b[1;32m    111\u001b[0m         _add_community_link(e)\n",
      "File \u001b[0;32m/opt/homebrew/anaconda3/envs/datathinking.org/lib/python3.11/site-packages/sql/magic.py:430\u001b[0m, in \u001b[0;36mSqlMagic._execute\u001b[0;34m(self, payload, line, cell, local_ns, is_interactive_mode)\u001b[0m\n\u001b[1;32m    427\u001b[0m     \u001b[39mreturn\u001b[39;00m\n\u001b[1;32m    429\u001b[0m \u001b[39mtry\u001b[39;00m:\n\u001b[0;32m--> 430\u001b[0m     result \u001b[39m=\u001b[39m sql\u001b[39m.\u001b[39mrun\u001b[39m.\u001b[39mrun(conn, command\u001b[39m.\u001b[39msql, \u001b[39mself\u001b[39m)\n\u001b[1;32m    432\u001b[0m     \u001b[39mif\u001b[39;00m (\n\u001b[1;32m    433\u001b[0m         result \u001b[39mis\u001b[39;00m \u001b[39mnot\u001b[39;00m \u001b[39mNone\u001b[39;00m\n\u001b[1;32m    434\u001b[0m         \u001b[39mand\u001b[39;00m \u001b[39mnot\u001b[39;00m \u001b[39misinstance\u001b[39m(result, \u001b[39mstr\u001b[39m)\n\u001b[0;32m   (...)\u001b[0m\n\u001b[1;32m    437\u001b[0m         \u001b[39m# Instead of returning values, set variables directly in the\u001b[39;00m\n\u001b[1;32m    438\u001b[0m         \u001b[39m# users namespace. Variable names given by column names\u001b[39;00m\n\u001b[1;32m    440\u001b[0m         \u001b[39mif\u001b[39;00m \u001b[39mself\u001b[39m\u001b[39m.\u001b[39mautopandas \u001b[39mor\u001b[39;00m \u001b[39mself\u001b[39m\u001b[39m.\u001b[39mautopolars:\n",
      "File \u001b[0;32m/opt/homebrew/anaconda3/envs/datathinking.org/lib/python3.11/site-packages/sql/run.py:543\u001b[0m, in \u001b[0;36mrun\u001b[0;34m(conn, sql, config)\u001b[0m\n\u001b[1;32m    541\u001b[0m     conn \u001b[39m=\u001b[39m conn\u001b[39m.\u001b[39mengine\u001b[39m.\u001b[39mraw_connection()\n\u001b[1;32m    542\u001b[0m     cursor \u001b[39m=\u001b[39m conn\u001b[39m.\u001b[39mcursor()\n\u001b[0;32m--> 543\u001b[0m     cursor\u001b[39m.\u001b[39mexecute(\u001b[39mstr\u001b[39m(statement))\n\u001b[1;32m    545\u001b[0m \u001b[39melse\u001b[39;00m:\n\u001b[1;32m    546\u001b[0m     result \u001b[39m=\u001b[39m conn\u001b[39m.\u001b[39msession\u001b[39m.\u001b[39mexecute(statement)\n",
      "File \u001b[0;32m/opt/homebrew/anaconda3/envs/datathinking.org/lib/python3.11/site-packages/duckdb_engine/__init__.py:140\u001b[0m, in \u001b[0;36mConnectionWrapper.execute\u001b[0;34m(self, statement, parameters, context)\u001b[0m\n\u001b[1;32m    138\u001b[0m     \u001b[39mself\u001b[39m\u001b[39m.\u001b[39m__c\u001b[39m.\u001b[39mregister(view_name, df)\n\u001b[1;32m    139\u001b[0m \u001b[39melif\u001b[39;00m parameters \u001b[39mis\u001b[39;00m \u001b[39mNone\u001b[39;00m:\n\u001b[0;32m--> 140\u001b[0m     \u001b[39mself\u001b[39m\u001b[39m.\u001b[39m__c\u001b[39m.\u001b[39mexecute(statement)\n\u001b[1;32m    141\u001b[0m \u001b[39melse\u001b[39;00m:\n\u001b[1;32m    142\u001b[0m     \u001b[39mself\u001b[39m\u001b[39m.\u001b[39m__c\u001b[39m.\u001b[39mexecute(statement, parameters)\n",
      "\u001b[0;31mInvalidInputException\u001b[0m: Invalid Input Error: Error in file \"/Users/me/Downloads/adi-download/US_2021_ADI_Census Block Group_v4.csv\", on line 2: expected 4 values per row, but got more. (  file=/Users/me/Downloads/adi-download/US_2021_ADI_Census Block Group_v4.csv\n  delimiter=','\n  quote='\"'\n  escape='\"' (default)\n  header=1\n  sample_size=20480\n  ignore_errors=0\n  all_varchar=0)"
     ]
    }
   ],
   "source": [
    "%%sql\n",
    "SELECT *\n",
    "FROM read_csv('/Users/me/Downloads/adi-download/US_2021_ADI_Census Block Group_v4.csv', \n",
    "  header=True, \n",
    "  delim=',',\n",
    "  quote='\"',\n",
    "  columns={'GISJOIN': 'VARCHAR',\n",
    "           'ADI_NATRANK': 'INT',  \n",
    "           'ADI_STATERNK': 'INT',\n",
    "           'FIPS': 'VARCHAR'})\n",
    "LIMIT 10;"
   ]
  },
  {
   "cell_type": "markdown",
   "metadata": {},
   "source": [
    "## ChatGPT response"
   ]
  },
  {
   "cell_type": "code",
   "execution_count": 11,
   "metadata": {},
   "outputs": [
    {
     "name": "stdout",
     "output_type": "stream",
     "text": [
      "\"INDEX\",\"GISJOIN\",\"ADI_NATRANK\",\"ADI_STATERNK\",\"FIPS\"\n",
      "\"1\",\"G01000100201001\",\"74\",\"5\",\"010010201001\"\n",
      "\"2\",\"G01000100201002\",\"74\",\"5\",\"010010201002\"\n",
      "\"3\",\"G01000100202001\",\"84\",\"7\",\"010010202001\"\n",
      "\"4\",\"G01000100202002\",\"84\",\"7\",\"010010202002\"\n",
      "\"5\",\"G01000100203001\",\"79\",\"6\",\"010010203001\"\n",
      "\"6\",\"G01000100203002\",\"79\",\"6\",\"010010203002\"\n",
      "\"7\",\"G01000100204001\",\"64\",\"3\",\"010010204001\"\n",
      "\"8\",\"G01000100204002\",\"64\",\"3\",\"010010204002\"\n",
      "\"9\",\"G01000100204003\",\"64\",\"3\",\"010010204003\"\n"
     ]
    }
   ],
   "source": [
    "!head /Users/me/Downloads/adi-download/US_2021_ADI_Census\\ Block\\ Group_v4.csv"
   ]
  },
  {
   "cell_type": "code",
   "execution_count": 3,
   "metadata": {},
   "outputs": [
    {
     "ename": "InvalidInputException",
     "evalue": "Invalid Input Error: Could not convert string 'GQ' to INT64 at line 60 in column \"ADI_NATRANK\". Parser options:\n  file=/Users/me/Downloads/adi-download/US_2021_ADI_Census Block Group_v4.csv\n  delimiter=','\n  quote='\"'\n  escape='\"' (default)\n  header=1\n  sample_size=20480\n  ignore_errors=0\n  all_varchar=0 ",
     "output_type": "error",
     "traceback": [
      "\u001b[0;31m---------------------------------------------------------------------------\u001b[0m",
      "\u001b[0;31mInvalidInputException\u001b[0m                     Traceback (most recent call last)",
      "Cell \u001b[0;32mIn[3], line 1\u001b[0m\n\u001b[0;32m----> 1\u001b[0m get_ipython()\u001b[39m.\u001b[39mrun_cell_magic(\u001b[39m'\u001b[39m\u001b[39msql\u001b[39m\u001b[39m'\u001b[39m, \u001b[39m'\u001b[39m\u001b[39m'\u001b[39m, \u001b[39m'\u001b[39m\u001b[39mSELECT *\u001b[39m\u001b[39m\\n\u001b[39;00m\u001b[39mFROM read_csv(\u001b[39m\u001b[39m\\'\u001b[39;00m\u001b[39m/Users/me/Downloads/adi-download/US_2021_ADI_Census Block Group_v4.csv\u001b[39m\u001b[39m\\'\u001b[39;00m\u001b[39m,\u001b[39m\u001b[39m\\n\u001b[39;00m\u001b[39m    header=True,\u001b[39m\u001b[39m\\n\u001b[39;00m\u001b[39m    delim=\u001b[39m\u001b[39m\\'\u001b[39;00m\u001b[39m,\u001b[39m\u001b[39m\\'\u001b[39;00m\u001b[39m,\u001b[39m\u001b[39m\\n\u001b[39;00m\u001b[39m    quote=\u001b[39m\u001b[39m\\'\u001b[39;00m\u001b[39m\"\u001b[39m\u001b[39m\\'\u001b[39;00m\u001b[39m,\u001b[39m\u001b[39m\\n\u001b[39;00m\u001b[39m    columns=\u001b[39m\u001b[39m{\u001b[39m\u001b[39m\\'\u001b[39;00m\u001b[39mINDEX\u001b[39m\u001b[39m\\'\u001b[39;00m\u001b[39m: \u001b[39m\u001b[39m\\'\u001b[39;00m\u001b[39mBIGINT\u001b[39m\u001b[39m\\'\u001b[39;00m\u001b[39m,\u001b[39m\u001b[39m\\n\u001b[39;00m\u001b[39m    \u001b[39m\u001b[39m\\'\u001b[39;00m\u001b[39mGISJOIN\u001b[39m\u001b[39m\\'\u001b[39;00m\u001b[39m: \u001b[39m\u001b[39m\\'\u001b[39;00m\u001b[39mVARCHAR\u001b[39m\u001b[39m\\'\u001b[39;00m\u001b[39m,\u001b[39m\u001b[39m\\n\u001b[39;00m\u001b[39m    \u001b[39m\u001b[39m\\'\u001b[39;00m\u001b[39mADI_NATRANK\u001b[39m\u001b[39m\\'\u001b[39;00m\u001b[39m: \u001b[39m\u001b[39m\\'\u001b[39;00m\u001b[39mBIGINT\u001b[39m\u001b[39m\\'\u001b[39;00m\u001b[39m,\u001b[39m\u001b[39m\\n\u001b[39;00m\u001b[39m    \u001b[39m\u001b[39m\\'\u001b[39;00m\u001b[39mADI_STATERNK\u001b[39m\u001b[39m\\'\u001b[39;00m\u001b[39m: \u001b[39m\u001b[39m\\'\u001b[39;00m\u001b[39mBIGINT\u001b[39m\u001b[39m\\'\u001b[39;00m\u001b[39m,\u001b[39m\u001b[39m\\n\u001b[39;00m\u001b[39m    \u001b[39m\u001b[39m\\'\u001b[39;00m\u001b[39mFIPS\u001b[39m\u001b[39m\\'\u001b[39;00m\u001b[39m: \u001b[39m\u001b[39m\\'\u001b[39;00m\u001b[39mVARCHAR\u001b[39m\u001b[39m\\'\u001b[39;00m\u001b[39m}) \u001b[39m\u001b[39m\\n\u001b[39;00m\u001b[39mLIMIT 10;\u001b[39m\u001b[39m\\n\u001b[39;00m\u001b[39m'\u001b[39m)\n",
      "File \u001b[0;32m/opt/homebrew/anaconda3/envs/datathinking.org/lib/python3.11/site-packages/IPython/core/interactiveshell.py:2475\u001b[0m, in \u001b[0;36mInteractiveShell.run_cell_magic\u001b[0;34m(self, magic_name, line, cell)\u001b[0m\n\u001b[1;32m   2473\u001b[0m \u001b[39mwith\u001b[39;00m \u001b[39mself\u001b[39m\u001b[39m.\u001b[39mbuiltin_trap:\n\u001b[1;32m   2474\u001b[0m     args \u001b[39m=\u001b[39m (magic_arg_s, cell)\n\u001b[0;32m-> 2475\u001b[0m     result \u001b[39m=\u001b[39m fn(\u001b[39m*\u001b[39margs, \u001b[39m*\u001b[39m\u001b[39m*\u001b[39mkwargs)\n\u001b[1;32m   2477\u001b[0m \u001b[39m# The code below prevents the output from being displayed\u001b[39;00m\n\u001b[1;32m   2478\u001b[0m \u001b[39m# when using magics with decodator @output_can_be_silenced\u001b[39;00m\n\u001b[1;32m   2479\u001b[0m \u001b[39m# when the last Python token in the expression is a ';'.\u001b[39;00m\n\u001b[1;32m   2480\u001b[0m \u001b[39mif\u001b[39;00m \u001b[39mgetattr\u001b[39m(fn, magic\u001b[39m.\u001b[39mMAGIC_OUTPUT_CAN_BE_SILENCED, \u001b[39mFalse\u001b[39;00m):\n",
      "File \u001b[0;32m/opt/homebrew/anaconda3/envs/datathinking.org/lib/python3.11/site-packages/sql/magic.py:287\u001b[0m, in \u001b[0;36mSqlMagic.execute\u001b[0;34m(self, line, cell, local_ns)\u001b[0m\n\u001b[1;32m    179\u001b[0m \u001b[39m@no_var_expand\u001b[39m\n\u001b[1;32m    180\u001b[0m \u001b[39m@needs_local_scope\u001b[39m\n\u001b[1;32m    181\u001b[0m \u001b[39m@line_magic\u001b[39m(\u001b[39m\"\u001b[39m\u001b[39msql\u001b[39m\u001b[39m\"\u001b[39m)\n\u001b[0;32m   (...)\u001b[0m\n\u001b[1;32m    259\u001b[0m )\n\u001b[1;32m    260\u001b[0m \u001b[39mdef\u001b[39;00m \u001b[39mexecute\u001b[39m(\u001b[39mself\u001b[39m, line\u001b[39m=\u001b[39m\u001b[39m\"\u001b[39m\u001b[39m\"\u001b[39m, cell\u001b[39m=\u001b[39m\u001b[39m\"\u001b[39m\u001b[39m\"\u001b[39m, local_ns\u001b[39m=\u001b[39m\u001b[39mNone\u001b[39;00m):\n\u001b[1;32m    261\u001b[0m \u001b[39m    \u001b[39m\u001b[39m\"\"\"\u001b[39;00m\n\u001b[1;32m    262\u001b[0m \u001b[39m    Runs SQL statement against a database, specified by\u001b[39;00m\n\u001b[1;32m    263\u001b[0m \u001b[39m    SQLAlchemy connect string.\u001b[39;00m\n\u001b[0;32m   (...)\u001b[0m\n\u001b[1;32m    285\u001b[0m \n\u001b[1;32m    286\u001b[0m \u001b[39m    \"\"\"\u001b[39;00m\n\u001b[0;32m--> 287\u001b[0m     \u001b[39mreturn\u001b[39;00m \u001b[39mself\u001b[39m\u001b[39m.\u001b[39m_execute(\n\u001b[1;32m    288\u001b[0m         line\u001b[39m=\u001b[39mline, cell\u001b[39m=\u001b[39mcell, local_ns\u001b[39m=\u001b[39mlocal_ns, is_interactive_mode\u001b[39m=\u001b[39m\u001b[39mFalse\u001b[39;00m\n\u001b[1;32m    289\u001b[0m     )\n",
      "File \u001b[0;32m/opt/homebrew/anaconda3/envs/datathinking.org/lib/python3.11/site-packages/ploomber_core/telemetry/telemetry.py:740\u001b[0m, in \u001b[0;36mTelemetry.log_call.<locals>._log_call.<locals>.wrapper\u001b[0;34m(*args, **kwargs)\u001b[0m\n\u001b[1;32m    738\u001b[0m     injected_args \u001b[39m=\u001b[39m \u001b[39mlist\u001b[39m(args)\n\u001b[1;32m    739\u001b[0m     injected_args\u001b[39m.\u001b[39minsert(\u001b[39m1\u001b[39m, _payload)\n\u001b[0;32m--> 740\u001b[0m     result \u001b[39m=\u001b[39m func(\u001b[39m*\u001b[39minjected_args, \u001b[39m*\u001b[39m\u001b[39m*\u001b[39mkwargs)\n\u001b[1;32m    741\u001b[0m \u001b[39melse\u001b[39;00m:\n\u001b[1;32m    742\u001b[0m     result \u001b[39m=\u001b[39m func(_payload, \u001b[39m*\u001b[39margs, \u001b[39m*\u001b[39m\u001b[39m*\u001b[39mkwargs)\n",
      "File \u001b[0;32m/opt/homebrew/anaconda3/envs/datathinking.org/lib/python3.11/site-packages/ploomber_core/exceptions.py:109\u001b[0m, in \u001b[0;36mmodify_exceptions.<locals>.wrapper\u001b[0;34m(*args, **kwargs)\u001b[0m\n\u001b[1;32m    106\u001b[0m \u001b[39m@wraps\u001b[39m(fn)\n\u001b[1;32m    107\u001b[0m \u001b[39mdef\u001b[39;00m \u001b[39mwrapper\u001b[39m(\u001b[39m*\u001b[39margs, \u001b[39m*\u001b[39m\u001b[39m*\u001b[39mkwargs):\n\u001b[1;32m    108\u001b[0m     \u001b[39mtry\u001b[39;00m:\n\u001b[0;32m--> 109\u001b[0m         \u001b[39mreturn\u001b[39;00m fn(\u001b[39m*\u001b[39margs, \u001b[39m*\u001b[39m\u001b[39m*\u001b[39mkwargs)\n\u001b[1;32m    110\u001b[0m     \u001b[39mexcept\u001b[39;00m (\u001b[39mValueError\u001b[39;00m, \u001b[39mTypeError\u001b[39;00m) \u001b[39mas\u001b[39;00m e:\n\u001b[1;32m    111\u001b[0m         _add_community_link(e)\n",
      "File \u001b[0;32m/opt/homebrew/anaconda3/envs/datathinking.org/lib/python3.11/site-packages/sql/magic.py:430\u001b[0m, in \u001b[0;36mSqlMagic._execute\u001b[0;34m(self, payload, line, cell, local_ns, is_interactive_mode)\u001b[0m\n\u001b[1;32m    427\u001b[0m     \u001b[39mreturn\u001b[39;00m\n\u001b[1;32m    429\u001b[0m \u001b[39mtry\u001b[39;00m:\n\u001b[0;32m--> 430\u001b[0m     result \u001b[39m=\u001b[39m sql\u001b[39m.\u001b[39mrun\u001b[39m.\u001b[39mrun(conn, command\u001b[39m.\u001b[39msql, \u001b[39mself\u001b[39m)\n\u001b[1;32m    432\u001b[0m     \u001b[39mif\u001b[39;00m (\n\u001b[1;32m    433\u001b[0m         result \u001b[39mis\u001b[39;00m \u001b[39mnot\u001b[39;00m \u001b[39mNone\u001b[39;00m\n\u001b[1;32m    434\u001b[0m         \u001b[39mand\u001b[39;00m \u001b[39mnot\u001b[39;00m \u001b[39misinstance\u001b[39m(result, \u001b[39mstr\u001b[39m)\n\u001b[0;32m   (...)\u001b[0m\n\u001b[1;32m    437\u001b[0m         \u001b[39m# Instead of returning values, set variables directly in the\u001b[39;00m\n\u001b[1;32m    438\u001b[0m         \u001b[39m# users namespace. Variable names given by column names\u001b[39;00m\n\u001b[1;32m    440\u001b[0m         \u001b[39mif\u001b[39;00m \u001b[39mself\u001b[39m\u001b[39m.\u001b[39mautopandas \u001b[39mor\u001b[39;00m \u001b[39mself\u001b[39m\u001b[39m.\u001b[39mautopolars:\n",
      "File \u001b[0;32m/opt/homebrew/anaconda3/envs/datathinking.org/lib/python3.11/site-packages/sql/run.py:543\u001b[0m, in \u001b[0;36mrun\u001b[0;34m(conn, sql, config)\u001b[0m\n\u001b[1;32m    541\u001b[0m     conn \u001b[39m=\u001b[39m conn\u001b[39m.\u001b[39mengine\u001b[39m.\u001b[39mraw_connection()\n\u001b[1;32m    542\u001b[0m     cursor \u001b[39m=\u001b[39m conn\u001b[39m.\u001b[39mcursor()\n\u001b[0;32m--> 543\u001b[0m     cursor\u001b[39m.\u001b[39mexecute(\u001b[39mstr\u001b[39m(statement))\n\u001b[1;32m    545\u001b[0m \u001b[39melse\u001b[39;00m:\n\u001b[1;32m    546\u001b[0m     result \u001b[39m=\u001b[39m conn\u001b[39m.\u001b[39msession\u001b[39m.\u001b[39mexecute(statement)\n",
      "File \u001b[0;32m/opt/homebrew/anaconda3/envs/datathinking.org/lib/python3.11/site-packages/duckdb_engine/__init__.py:140\u001b[0m, in \u001b[0;36mConnectionWrapper.execute\u001b[0;34m(self, statement, parameters, context)\u001b[0m\n\u001b[1;32m    138\u001b[0m     \u001b[39mself\u001b[39m\u001b[39m.\u001b[39m__c\u001b[39m.\u001b[39mregister(view_name, df)\n\u001b[1;32m    139\u001b[0m \u001b[39melif\u001b[39;00m parameters \u001b[39mis\u001b[39;00m \u001b[39mNone\u001b[39;00m:\n\u001b[0;32m--> 140\u001b[0m     \u001b[39mself\u001b[39m\u001b[39m.\u001b[39m__c\u001b[39m.\u001b[39mexecute(statement)\n\u001b[1;32m    141\u001b[0m \u001b[39melse\u001b[39;00m:\n\u001b[1;32m    142\u001b[0m     \u001b[39mself\u001b[39m\u001b[39m.\u001b[39m__c\u001b[39m.\u001b[39mexecute(statement, parameters)\n",
      "\u001b[0;31mInvalidInputException\u001b[0m: Invalid Input Error: Could not convert string 'GQ' to INT64 at line 60 in column \"ADI_NATRANK\". Parser options:\n  file=/Users/me/Downloads/adi-download/US_2021_ADI_Census Block Group_v4.csv\n  delimiter=','\n  quote='\"'\n  escape='\"' (default)\n  header=1\n  sample_size=20480\n  ignore_errors=0\n  all_varchar=0 "
     ]
    }
   ],
   "source": [
    "%%sql \n",
    "SELECT *\n",
    "FROM read_csv('/Users/me/Downloads/adi-download/US_2021_ADI_Census Block Group_v4.csv',\n",
    "    header=True,\n",
    "    delim=',',\n",
    "    quote='\"',\n",
    "    columns={'INDEX': 'BIGINT',\n",
    "    'GISJOIN': 'VARCHAR',\n",
    "    'ADI_NATRANK': 'BIGINT',\n",
    "    'ADI_STATERNK': 'BIGINT',\n",
    "    'FIPS': 'VARCHAR'}) \n",
    "LIMIT 10;\n"
   ]
  },
  {
   "cell_type": "code",
   "execution_count": null,
   "metadata": {},
   "outputs": [],
   "source": []
  }
 ],
 "metadata": {
  "kernelspec": {
   "display_name": "Python 3",
   "language": "python",
   "name": "python3"
  },
  "language_info": {
   "codemirror_mode": {
    "name": "ipython",
    "version": 3
   },
   "file_extension": ".py",
   "mimetype": "text/x-python",
   "name": "python",
   "nbconvert_exporter": "python",
   "pygments_lexer": "ipython3",
   "version": "3.11.0"
  },
  "orig_nbformat": 4
 },
 "nbformat": 4,
 "nbformat_minor": 2
}
