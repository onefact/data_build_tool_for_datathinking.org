{
 "cells": [
  {
   "cell_type": "markdown",
   "metadata": {},
   "source": [
    "# Data download\n",
    "\n",
    "https://www.neighborhoodatlas.medicine.wisc.edu/"
   ]
  },
  {
   "cell_type": "code",
   "execution_count": 2,
   "metadata": {},
   "outputs": [
    {
     "name": "stdout",
     "output_type": "stream",
     "text": [
      "\u001b[33mThere's a new jupysql version available (0.8.0), you're running 0.7.8. To upgrade: pip install jupysql --upgrade\u001b[0m\n"
     ]
    }
   ],
   "source": [
    "# Load duckdb, which lets us efficiently load large files\n",
    "import duckdb\n",
    "\n",
    "# Load pandas, which lets us manipulate dataframes\n",
    "import pandas as pd\n",
    "\n",
    "# Load polars, which enables loading of parquet files\n",
    "import polars as pl\n",
    "\n",
    "# Import jupysql Jupyter extension to create SQL cells\n",
    "%load_ext sql\n",
    "\n",
    "# Set configrations on jupysql to directly output data to Pandas and to simplify the output that is printed to the notebook.\n",
    "%config SqlMagic.autopandas = True\n",
    "\n",
    "%config SqlMagic.feedback = False\n",
    "%config SqlMagic.displaycon = False\n",
    "\n",
    "# Connect jupysql to DuckDB using a SQLAlchemy-style connection string. Either connect to an in memory DuckDB, or a file backed db.\n",
    "%sql duckdb:///:memory:"
   ]
  },
  {
   "cell_type": "markdown",
   "metadata": {},
   "source": [
    "## Minimal duckdb query to standardize the ADI file \n",
    "\n",
    "Prompt for Claude:\n",
    "\n",
    "```\n",
    "%%sql\n",
    "SELECT *\n",
    "FROM read_csv('https://data.cityofnewyork.us/api/views/erm2-nwe9/rows.csv?accessType=DOWNLOAD',\n",
    "    header=True,\n",
    "    delim=',',\n",
    "    quote='\"',\n",
    "    columns={'Unique Key': 'BIGINT',\n",
    "    'Created Date': 'VARCHAR',\n",
    "    'Closed Date': 'VARCHAR',\n",
    "    'Agency': 'VARCHAR',\n",
    "    'Agency Name': 'VARCHAR',\n",
    "    'Complaint Type': 'VARCHAR',\n",
    "    'Descriptor': 'VARCHAR',\n",
    "    'Location Type': 'VARCHAR',\n",
    "    'Incident Zip': 'VARCHAR',\n",
    "    'Incident Address': 'VARCHAR',\n",
    "    'Street Name': 'VARCHAR',\n",
    "    'Cross Street 1': 'VARCHAR',\n",
    "    'Cross Street 2': 'VARCHAR',\n",
    "    'Intersection Street 1': 'VARCHAR',\n",
    "    'Intersection Street 2': 'VARCHAR',\n",
    "    'Address Type': 'VARCHAR',\n",
    "    'City': 'VARCHAR',\n",
    "    'Landmark': 'VARCHAR',\n",
    "    'Facility Type': 'VARCHAR',\n",
    "    'Status': 'VARCHAR',\n",
    "    'Due Date': 'VARCHAR',\n",
    "    'Resolution Description': 'VARCHAR',\n",
    "    'Resolution Action Updated Date': 'VARCHAR',\n",
    "    'Community Board': 'VARCHAR',\n",
    "    'BBL': 'VARCHAR',\n",
    "    'Borough': 'VARCHAR',\n",
    "    'X Coordinate (State Plane)': 'VARCHAR',\n",
    "    'Y Coordinate (State Plane)': 'VARCHAR',\n",
    "    'Open Data Channel Type': 'VARCHAR',\n",
    "    'Park Facility Name': 'VARCHAR',\n",
    "    'Park Borough': 'VARCHAR',\n",
    "    'Vehicle Type': 'VARCHAR',\n",
    "    'Taxi Company Borough': 'VARCHAR',\n",
    "    'Taxi Pick Up Location': 'VARCHAR',\n",
    "    'Bridge Highway Name': 'VARCHAR',\n",
    "    'Bridge Highway Direction': 'VARCHAR',\n",
    "    'Road Ramp': 'VARCHAR',\n",
    "    'Bridge Highway Segment': 'VARCHAR',\n",
    "    'Latitude': 'DOUBLE',\n",
    "    'Longitude': 'DOUBLE',\n",
    "    'Location': 'VARCHAR'}) \n",
    "LIMIT 10;\n",
    "\n",
    "Please use the above query example and rewrite it for the file at `/Users/me/Downloads/adi-download/US_2021_ADI_Census\\ Block\\ Group_v4.csv` that has the following header:\n",
    "\n",
    "```\"\",\"GISJOIN\",\"ADI_NATRANK\",\"ADI_STATERNK\",\"FIPS\"\n",
    "\"1\",\"G01000100201001\",\"74\",\"5\",\"010010201001\"\n",
    "\"2\",\"G01000100201002\",\"74\",\"5\",\"010010201002\"\n",
    "\"3\",\"G01000100202001\",\"84\",\"7\",\"010010202001\"\n",
    "\"4\",\"G01000100202002\",\"84\",\"7\",\"010010202002\"\n",
    "\"5\",\"G01000100203001\",\"79\",\"6\",\"010010203001\"\n",
    "\"6\",\"G01000100203002\",\"79\",\"6\",\"010010203002\"\n",
    "\"7\",\"G01000100204001\",\"64\",\"3\",\"010010204001\"\n",
    "\"8\",\"G01000100204002\",\"64\",\"3\",\"010010204002\"\n",
    "\"9\",\"G01000100204003\",\"64\",\"3\",\"010010204003\"\n",
    "```\n",
    "```"
   ]
  },
  {
   "cell_type": "code",
   "execution_count": 3,
   "metadata": {},
   "outputs": [
    {
     "name": "stdout",
     "output_type": "stream",
     "text": [
      "2021 Block Group ADI Files v4.0\n",
      "\n",
      "These files contain a linkage between the Census block group and the ADI score.\n",
      "The file contains four relevant fields:\n",
      "- GISJOIN: Key linkage field to the block group shapefile served by NHGIS\n",
      "- FIPS: The block group Census ID\n",
      "- ADI_NATRANK: National percentile of block group ADI score\n",
      "- ADI_STATERNK: State-specific decile of block group ADI score\n",
      "\n",
      "\n"
     ]
    }
   ],
   "source": [
    "!head /Users/me/Downloads/adi-download/2021\\ ADI_Census\\ Block\\ Group_v4.0_ReadMe.txt"
   ]
  },
  {
   "cell_type": "code",
   "execution_count": 4,
   "metadata": {},
   "outputs": [
    {
     "name": "stdout",
     "output_type": "stream",
     "text": [
      "\"INDEX\",\"GISJOIN\",\"ADI_NATRANK\",\"ADI_STATERNK\",\"FIPS\"\n",
      "\"1\",\"G01000100201001\",\"74\",\"5\",\"010010201001\"\n",
      "\"2\",\"G01000100201002\",\"74\",\"5\",\"010010201002\"\n",
      "\"3\",\"G01000100202001\",\"84\",\"7\",\"010010202001\"\n",
      "\"4\",\"G01000100202002\",\"84\",\"7\",\"010010202002\"\n",
      "\"5\",\"G01000100203001\",\"79\",\"6\",\"010010203001\"\n",
      "\"6\",\"G01000100203002\",\"79\",\"6\",\"010010203002\"\n",
      "\"7\",\"G01000100204001\",\"64\",\"3\",\"010010204001\"\n",
      "\"8\",\"G01000100204002\",\"64\",\"3\",\"010010204002\"\n",
      "\"9\",\"G01000100204003\",\"64\",\"3\",\"010010204003\"\n"
     ]
    }
   ],
   "source": [
    "!head /Users/me/Downloads/adi-download/US_2021_ADI_Census\\ Block\\ Group_v4.csv"
   ]
  },
  {
   "cell_type": "code",
   "execution_count": 11,
   "metadata": {},
   "outputs": [
    {
     "data": {
      "text/html": [
       "<div>\n",
       "<style scoped>\n",
       "    .dataframe tbody tr th:only-of-type {\n",
       "        vertical-align: middle;\n",
       "    }\n",
       "\n",
       "    .dataframe tbody tr th {\n",
       "        vertical-align: top;\n",
       "    }\n",
       "\n",
       "    .dataframe thead th {\n",
       "        text-align: right;\n",
       "    }\n",
       "</style>\n",
       "<table border=\"1\" class=\"dataframe\">\n",
       "  <thead>\n",
       "    <tr style=\"text-align: right;\">\n",
       "      <th></th>\n",
       "      <th>INDEX</th>\n",
       "      <th>GISJOIN</th>\n",
       "      <th>ADI_NATRANK</th>\n",
       "      <th>ADI_STATERNK</th>\n",
       "      <th>FIPS</th>\n",
       "    </tr>\n",
       "  </thead>\n",
       "  <tbody>\n",
       "    <tr>\n",
       "      <th>0</th>\n",
       "      <td>3</td>\n",
       "      <td>G01000100202001</td>\n",
       "      <td>84</td>\n",
       "      <td>7</td>\n",
       "      <td>010010202001</td>\n",
       "    </tr>\n",
       "    <tr>\n",
       "      <th>1</th>\n",
       "      <td>4</td>\n",
       "      <td>G01000100202002</td>\n",
       "      <td>84</td>\n",
       "      <td>7</td>\n",
       "      <td>010010202002</td>\n",
       "    </tr>\n",
       "    <tr>\n",
       "      <th>2</th>\n",
       "      <td>5</td>\n",
       "      <td>G01000100203001</td>\n",
       "      <td>79</td>\n",
       "      <td>6</td>\n",
       "      <td>010010203001</td>\n",
       "    </tr>\n",
       "    <tr>\n",
       "      <th>3</th>\n",
       "      <td>6</td>\n",
       "      <td>G01000100203002</td>\n",
       "      <td>79</td>\n",
       "      <td>6</td>\n",
       "      <td>010010203002</td>\n",
       "    </tr>\n",
       "    <tr>\n",
       "      <th>4</th>\n",
       "      <td>7</td>\n",
       "      <td>G01000100204001</td>\n",
       "      <td>64</td>\n",
       "      <td>3</td>\n",
       "      <td>010010204001</td>\n",
       "    </tr>\n",
       "    <tr>\n",
       "      <th>5</th>\n",
       "      <td>8</td>\n",
       "      <td>G01000100204002</td>\n",
       "      <td>64</td>\n",
       "      <td>3</td>\n",
       "      <td>010010204002</td>\n",
       "    </tr>\n",
       "    <tr>\n",
       "      <th>6</th>\n",
       "      <td>9</td>\n",
       "      <td>G01000100204003</td>\n",
       "      <td>64</td>\n",
       "      <td>3</td>\n",
       "      <td>010010204003</td>\n",
       "    </tr>\n",
       "    <tr>\n",
       "      <th>7</th>\n",
       "      <td>10</td>\n",
       "      <td>G01000100204004</td>\n",
       "      <td>64</td>\n",
       "      <td>3</td>\n",
       "      <td>010010204004</td>\n",
       "    </tr>\n",
       "    <tr>\n",
       "      <th>8</th>\n",
       "      <td>11</td>\n",
       "      <td>G01000100205011</td>\n",
       "      <td>65</td>\n",
       "      <td>4</td>\n",
       "      <td>010010205011</td>\n",
       "    </tr>\n",
       "    <tr>\n",
       "      <th>9</th>\n",
       "      <td>12</td>\n",
       "      <td>G01000100205012</td>\n",
       "      <td>65</td>\n",
       "      <td>4</td>\n",
       "      <td>010010205012</td>\n",
       "    </tr>\n",
       "  </tbody>\n",
       "</table>\n",
       "</div>"
      ],
      "text/plain": [
       "   INDEX          GISJOIN ADI_NATRANK ADI_STATERNK          FIPS\n",
       "0      3  G01000100202001          84            7  010010202001\n",
       "1      4  G01000100202002          84            7  010010202002\n",
       "2      5  G01000100203001          79            6  010010203001\n",
       "3      6  G01000100203002          79            6  010010203002\n",
       "4      7  G01000100204001          64            3  010010204001\n",
       "5      8  G01000100204002          64            3  010010204002\n",
       "6      9  G01000100204003          64            3  010010204003\n",
       "7     10  G01000100204004          64            3  010010204004\n",
       "8     11  G01000100205011          65            4  010010205011\n",
       "9     12  G01000100205012          65            4  010010205012"
      ]
     },
     "execution_count": 11,
     "metadata": {},
     "output_type": "execute_result"
    }
   ],
   "source": [
    "%%sql\n",
    "SELECT *\n",
    "FROM read_csv('/Users/me/Downloads/adi-download/US_2021_ADI_Census Block Group_v4.csv', \n",
    "  header=True, \n",
    "  delim=',',\n",
    "  quote='\"',\n",
    "  skip=2,\n",
    "  columns={'INDEX': 'INT',\n",
    "           'GISJOIN': 'VARCHAR',\n",
    "           'ADI_NATRANK': 'VARCHAR',  \n",
    "           'ADI_STATERNK': 'VARCHAR',\n",
    "           'FIPS': 'VARCHAR'})\n",
    "LIMIT 10;"
   ]
  },
  {
   "cell_type": "markdown",
   "metadata": {},
   "source": [
    "## ChatGPT response"
   ]
  },
  {
   "cell_type": "code",
   "execution_count": 12,
   "metadata": {},
   "outputs": [
    {
     "name": "stdout",
     "output_type": "stream",
     "text": [
      "\"INDEX\",\"GISJOIN\",\"ADI_NATRANK\",\"ADI_STATERNK\",\"FIPS\"\n",
      "\"1\",\"G01000100201001\",\"74\",\"5\",\"010010201001\"\n",
      "\"2\",\"G01000100201002\",\"74\",\"5\",\"010010201002\"\n",
      "\"3\",\"G01000100202001\",\"84\",\"7\",\"010010202001\"\n",
      "\"4\",\"G01000100202002\",\"84\",\"7\",\"010010202002\"\n",
      "\"5\",\"G01000100203001\",\"79\",\"6\",\"010010203001\"\n",
      "\"6\",\"G01000100203002\",\"79\",\"6\",\"010010203002\"\n",
      "\"7\",\"G01000100204001\",\"64\",\"3\",\"010010204001\"\n",
      "\"8\",\"G01000100204002\",\"64\",\"3\",\"010010204002\"\n",
      "\"9\",\"G01000100204003\",\"64\",\"3\",\"010010204003\"\n"
     ]
    }
   ],
   "source": [
    "!head /Users/me/Downloads/adi-download/US_2021_ADI_Census\\ Block\\ Group_v4.csv"
   ]
  },
  {
   "cell_type": "code",
   "execution_count": null,
   "metadata": {},
   "outputs": [],
   "source": []
  }
 ],
 "metadata": {
  "kernelspec": {
   "display_name": "Python 3",
   "language": "python",
   "name": "python3"
  },
  "language_info": {
   "codemirror_mode": {
    "name": "ipython",
    "version": 3
   },
   "file_extension": ".py",
   "mimetype": "text/x-python",
   "name": "python",
   "nbconvert_exporter": "python",
   "pygments_lexer": "ipython3",
   "version": "3.11.0"
  },
  "orig_nbformat": 4
 },
 "nbformat": 4,
 "nbformat_minor": 2
}
