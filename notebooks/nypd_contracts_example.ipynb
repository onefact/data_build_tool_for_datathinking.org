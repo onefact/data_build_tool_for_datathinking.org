{
 "cells": [
  {
   "cell_type": "markdown",
   "metadata": {},
   "source": [
    "# Set up database tools and load data"
   ]
  },
  {
   "cell_type": "code",
   "execution_count": 16,
   "metadata": {},
   "outputs": [
    {
     "name": "stdout",
     "output_type": "stream",
     "text": [
      "The sql extension is already loaded. To reload it, use:\n",
      "  %reload_ext sql\n"
     ]
    }
   ],
   "source": [
    "# Load duckdb, which lets us efficiently load large files\n",
    "import duckdb\n",
    "\n",
    "# Load pandas, which lets us manipulate dataframes\n",
    "import pandas as pd\n",
    "\n",
    "# Load polars, which enables loading of parquet files\n",
    "import polars as pl\n",
    "\n",
    "# Import jupysql Jupyter extension to create SQL cells\n",
    "%load_ext sql\n",
    "\n",
    "# Set configrations on jupysql to directly output data to Pandas and to simplify the output that is printed to the notebook.\n",
    "%config SqlMagic.autopandas = True\n",
    "\n",
    "%config SqlMagic.feedback = False\n",
    "%config SqlMagic.displaycon = False\n",
    "\n",
    "# Connect jupysql to DuckDB using a SQLAlchemy-style connection string. Either connect to an in memory DuckDB, or a file backed db.\n",
    "%sql duckdb:///:memory:"
   ]
  },
  {
   "cell_type": "code",
   "execution_count": 34,
   "metadata": {},
   "outputs": [],
   "source": [
    "# Load the data into a Polars datafram\n",
    "nypd_contracts = pl.read_parquet(\"https://public.datathinking.org/checkbooknyc.com%2Fnypd_contracts.parquet\")"
   ]
  },
  {
   "cell_type": "code",
   "execution_count": 35,
   "metadata": {},
   "outputs": [
    {
     "data": {
      "text/html": [
       "<div><style>\n",
       ".dataframe > thead > tr > th,\n",
       ".dataframe > tbody > tr > td {\n",
       "  text-align: right;\n",
       "}\n",
       "</style>\n",
       "<small>shape: (19_459, 37)</small><table border=\"1\" class=\"dataframe\"><thead><tr><th>Document Code</th><th>Prime Contract ID</th><th>Contract Includes Sub Vendors</th><th>Vendor Record Type</th><th>Prime Vendor</th><th>Prime Vendor M/WBE Category</th><th>Prime Contract Purpose</th><th>Prime Contract Current Amount</th><th>Prime Contract Original Amount</th><th>Prime Vendor Spend to Date</th><th>Prime Contract Start Date</th><th>Prime Contract End Date</th><th>Prime Contract Registration Date</th><th>Prime Contracting Agency</th><th>Prime Contract Version</th><th>Parent Contract ID</th><th>Prime Contract Type</th><th>Prime Contract Award Method</th><th>Prime Contract Expense Category</th><th>Prime Contract Industry</th><th>Prime Contract PIN</th><th>Prime Contract APT PIN</th><th>Prime Woman Owned Business</th><th>Prime Emerging Business</th><th>Sub Vendor</th><th>Sub Vendor M/WBE Category</th><th>Sub Contract Purpose</th><th>Sub Vendor Status in PIP</th><th>Sub Contract Industry</th><th>Sub Contract Current Amount</th><th>Sub Contract Original Amount</th><th>Sub Vendor Paid To Date</th><th>Sub Contract Start Date</th><th>Sub Contract End Date</th><th>Sub Contract Reference ID</th><th>Sub Woman Owned Business</th><th>Sub Emerging Business</th></tr><tr><td>str</td><td>str</td><td>str</td><td>str</td><td>str</td><td>str</td><td>str</td><td>f64</td><td>f64</td><td>f64</td><td>str</td><td>str</td><td>str</td><td>str</td><td>str</td><td>str</td><td>str</td><td>str</td><td>str</td><td>str</td><td>str</td><td>str</td><td>str</td><td>str</td><td>str</td><td>str</td><td>str</td><td>str</td><td>str</td><td>f64</td><td>f64</td><td>f64</td><td>str</td><td>str</td><td>str</td><td>str</td><td>str</td></tr></thead><tbody><tr><td>&quot;RCT1&quot;</td><td>&quot;RCT10562023880…</td><td>&quot;N/A&quot;</td><td>&quot;Prime Vendor&quot;</td><td>&quot;PROPERTYROOM. …</td><td>&quot;Non-M/WBE&quot;</td><td>&quot;Revenue contra…</td><td>1.875e6</td><td>1.875e6</td><td>0.0</td><td>&quot;2023-03-08&quot;</td><td>&quot;2028-03-07&quot;</td><td>&quot;2023-03-20&quot;</td><td>&quot;Police Departm…</td><td>&quot;1&quot;</td><td>&quot;-&quot;</td><td>&quot;WORK/LABOR&quot;</td><td>&quot;REQUEST FOR  P…</td><td>null</td><td>&quot;Professional S…</td><td>&quot;05622P0002001&quot;</td><td>null</td><td>&quot;No &quot;</td><td>&quot;No &quot;</td><td>&quot;-&quot;</td><td>&quot;-&quot;</td><td>&quot;-&quot;</td><td>&quot;-&quot;</td><td>&quot;-&quot;</td><td>0.0</td><td>0.0</td><td>0.0</td><td>&quot;-&quot;</td><td>&quot;-&quot;</td><td>&quot;-&quot;</td><td>&quot;No &quot;</td><td>&quot;No &quot;</td></tr><tr><td>&quot;RCT1&quot;</td><td>&quot;RCT10562023880…</td><td>&quot;N/A&quot;</td><td>&quot;Prime Vendor&quot;</td><td>&quot;PROPERTYROOM. …</td><td>&quot;Non-M/WBE&quot;</td><td>&quot;Internet Based…</td><td>1.2e6</td><td>1.2e6</td><td>0.0</td><td>&quot;2020-03-08&quot;</td><td>&quot;2023-03-07&quot;</td><td>&quot;2022-11-15&quot;</td><td>&quot;Police Departm…</td><td>&quot;1&quot;</td><td>&quot;-&quot;</td><td>&quot;WORK/LABOR&quot;</td><td>&quot;NEG ACQUISITSI…</td><td>null</td><td>&quot;Not Classified…</td><td>&quot;05622N0002001&quot;</td><td>null</td><td>&quot;No &quot;</td><td>&quot;No &quot;</td><td>&quot;-&quot;</td><td>&quot;-&quot;</td><td>&quot;-&quot;</td><td>&quot;-&quot;</td><td>&quot;-&quot;</td><td>0.0</td><td>0.0</td><td>0.0</td><td>&quot;-&quot;</td><td>&quot;-&quot;</td><td>&quot;-&quot;</td><td>&quot;No &quot;</td><td>&quot;No &quot;</td></tr><tr><td>&quot;RCT1&quot;</td><td>&quot;RCT10562018820…</td><td>&quot;N/A&quot;</td><td>&quot;Prime Vendor&quot;</td><td>&quot;Insurance Auto…</td><td>&quot;Non-M/WBE&quot;</td><td>&quot;Invoiced Vehic…</td><td>0.0</td><td>0.0</td><td>0.0</td><td>&quot;2017-12-01&quot;</td><td>&quot;2022-11-30&quot;</td><td>&quot;2018-02-13&quot;</td><td>&quot;Police Departm…</td><td>&quot;1&quot;</td><td>&quot;-&quot;</td><td>&quot;OTHER EXPENSE …</td><td>&quot;REQUEST FOR  P…</td><td>null</td><td>&quot;Standardized S…</td><td>&quot;05617P0003001&quot;</td><td>null</td><td>&quot;No &quot;</td><td>&quot;No &quot;</td><td>&quot;-&quot;</td><td>&quot;-&quot;</td><td>&quot;-&quot;</td><td>&quot;-&quot;</td><td>&quot;-&quot;</td><td>0.0</td><td>0.0</td><td>0.0</td><td>&quot;-&quot;</td><td>&quot;-&quot;</td><td>&quot;-&quot;</td><td>&quot;No &quot;</td><td>&quot;No &quot;</td></tr><tr><td>&quot;RCT1&quot;</td><td>&quot;RCT10562018820…</td><td>&quot;N/A&quot;</td><td>&quot;Prime Vendor&quot;</td><td>&quot;PROPERTYROOM. …</td><td>&quot;Non-M/WBE&quot;</td><td>&quot;09665-Internet…</td><td>0.0</td><td>0.0</td><td>0.0</td><td>&quot;2017-09-08&quot;</td><td>&quot;2020-03-07&quot;</td><td>&quot;2017-10-19&quot;</td><td>&quot;Police Departm…</td><td>&quot;1&quot;</td><td>&quot;-&quot;</td><td>&quot;OTHER EXPENSE …</td><td>&quot;RENEWAL OF CON…</td><td>null</td><td>&quot;Not Classified…</td><td>&quot;05610P0003CNVR…</td><td>&quot;056090000665&quot;</td><td>&quot;No &quot;</td><td>&quot;No &quot;</td><td>&quot;-&quot;</td><td>&quot;-&quot;</td><td>&quot;-&quot;</td><td>&quot;-&quot;</td><td>&quot;-&quot;</td><td>0.0</td><td>0.0</td><td>0.0</td><td>&quot;-&quot;</td><td>&quot;-&quot;</td><td>&quot;-&quot;</td><td>&quot;No &quot;</td><td>&quot;No &quot;</td></tr><tr><td>&quot;RCT1&quot;</td><td>&quot;RCT10562017820…</td><td>&quot;N/A&quot;</td><td>&quot;Prime Vendor&quot;</td><td>&quot;Regent Caterin…</td><td>&quot;Non-M/WBE&quot;</td><td>&quot;Develop, Opera…</td><td>218000.0</td><td>218000.0</td><td>0.0</td><td>&quot;2014-12-08&quot;</td><td>&quot;2017-12-07&quot;</td><td>&quot;2016-10-11&quot;</td><td>&quot;Police Departm…</td><td>&quot;1&quot;</td><td>&quot;-&quot;</td><td>&quot;CONCESSIONS&quot;</td><td>&quot;ASSIGNMENT&quot;</td><td>null</td><td>&quot;Standardized S…</td><td>&quot;056140000913&quot;</td><td>null</td><td>&quot;No &quot;</td><td>&quot;No &quot;</td><td>&quot;-&quot;</td><td>&quot;-&quot;</td><td>&quot;-&quot;</td><td>&quot;-&quot;</td><td>&quot;-&quot;</td><td>0.0</td><td>0.0</td><td>0.0</td><td>&quot;-&quot;</td><td>&quot;-&quot;</td><td>&quot;-&quot;</td><td>&quot;No &quot;</td><td>&quot;No &quot;</td></tr><tr><td>&quot;RCT1&quot;</td><td>&quot;RCT10562015820…</td><td>&quot;N/A&quot;</td><td>&quot;Prime Vendor&quot;</td><td>&quot;PROPERTYROOM. …</td><td>&quot;Non-M/WBE&quot;</td><td>&quot;09665-Internet…</td><td>0.0</td><td>0.0</td><td>0.0</td><td>&quot;2015-03-08&quot;</td><td>&quot;2017-09-07&quot;</td><td>&quot;2015-04-20&quot;</td><td>&quot;Police Departm…</td><td>&quot;1&quot;</td><td>&quot;-&quot;</td><td>&quot;OTHER EXPENSE …</td><td>&quot;RENEWAL OF CON…</td><td>null</td><td>&quot;Not Classified…</td><td>&quot;05610P0003CNVR…</td><td>null</td><td>&quot;No &quot;</td><td>&quot;No &quot;</td><td>&quot;-&quot;</td><td>&quot;-&quot;</td><td>&quot;-&quot;</td><td>&quot;-&quot;</td><td>&quot;-&quot;</td><td>0.0</td><td>0.0</td><td>0.0</td><td>&quot;-&quot;</td><td>&quot;-&quot;</td><td>&quot;-&quot;</td><td>&quot;No &quot;</td><td>&quot;No &quot;</td></tr><tr><td>&quot;RCT1&quot;</td><td>&quot;RCT10562015820…</td><td>&quot;N/A&quot;</td><td>&quot;Prime Vendor&quot;</td><td>&quot;PROPERTYROOM. …</td><td>&quot;Non-M/WBE&quot;</td><td>&quot;09629 Invoicin…</td><td>0.0</td><td>0.0</td><td>0.0</td><td>&quot;2014-11-30&quot;</td><td>&quot;2017-11-29&quot;</td><td>&quot;2015-06-15&quot;</td><td>&quot;Police Departm…</td><td>&quot;2&quot;</td><td>&quot;-&quot;</td><td>&quot;MISCREVENUE-NO…</td><td>&quot;RENEWAL OF CON…</td><td>null</td><td>&quot;Not Classified…</td><td>&quot;05609P0006CNVA…</td><td>&quot;056090000629&quot;</td><td>&quot;No &quot;</td><td>&quot;No &quot;</td><td>&quot;-&quot;</td><td>&quot;-&quot;</td><td>&quot;-&quot;</td><td>&quot;-&quot;</td><td>&quot;-&quot;</td><td>0.0</td><td>0.0</td><td>0.0</td><td>&quot;-&quot;</td><td>&quot;-&quot;</td><td>&quot;-&quot;</td><td>&quot;No &quot;</td><td>&quot;No &quot;</td></tr><tr><td>&quot;RCT1&quot;</td><td>&quot;RCT10562015820…</td><td>&quot;N/A&quot;</td><td>&quot;Prime Vendor&quot;</td><td>&quot;regent caterin…</td><td>&quot;Non-M/WBE&quot;</td><td>&quot;Develop, Opera…</td><td>525000.0</td><td>525000.0</td><td>0.0</td><td>&quot;2014-12-08&quot;</td><td>&quot;2017-12-07&quot;</td><td>&quot;2014-09-16&quot;</td><td>&quot;Police Departm…</td><td>&quot;2&quot;</td><td>&quot;-&quot;</td><td>&quot;CONCESSIONS&quot;</td><td>&quot;REQUEST FOR  P…</td><td>null</td><td>&quot;Standardized S…</td><td>&quot;056140000913&quot;</td><td>null</td><td>&quot;No &quot;</td><td>&quot;No &quot;</td><td>&quot;-&quot;</td><td>&quot;-&quot;</td><td>&quot;-&quot;</td><td>&quot;-&quot;</td><td>&quot;-&quot;</td><td>0.0</td><td>0.0</td><td>0.0</td><td>&quot;-&quot;</td><td>&quot;-&quot;</td><td>&quot;-&quot;</td><td>&quot;No &quot;</td><td>&quot;No &quot;</td></tr><tr><td>&quot;RCT1&quot;</td><td>&quot;RCT10562014820…</td><td>&quot;N/A&quot;</td><td>&quot;Prime Vendor&quot;</td><td>&quot;PROPERTYROOM. …</td><td>&quot;Non-M/WBE&quot;</td><td>&quot;09629 Invoicin…</td><td>0.0</td><td>0.0</td><td>0.0</td><td>&quot;2012-11-30&quot;</td><td>&quot;2014-11-29&quot;</td><td>&quot;2013-09-05&quot;</td><td>&quot;Police Departm…</td><td>&quot;1&quot;</td><td>&quot;-&quot;</td><td>&quot;MISCREVENUE-NO…</td><td>&quot;RENEWAL OF CON…</td><td>null</td><td>&quot;Not Classified…</td><td>&quot;05609P0006CNVR…</td><td>&quot;056090000629&quot;</td><td>&quot;No &quot;</td><td>&quot;No &quot;</td><td>&quot;-&quot;</td><td>&quot;-&quot;</td><td>&quot;-&quot;</td><td>&quot;-&quot;</td><td>&quot;-&quot;</td><td>0.0</td><td>0.0</td><td>0.0</td><td>&quot;-&quot;</td><td>&quot;-&quot;</td><td>&quot;-&quot;</td><td>&quot;No &quot;</td><td>&quot;No &quot;</td></tr><tr><td>&quot;RCT1&quot;</td><td>&quot;RCT10562011820…</td><td>&quot;N/A&quot;</td><td>&quot;Prime Vendor&quot;</td><td>&quot;ANSWER VENDING…</td><td>&quot;Non-M/WBE&quot;</td><td>&quot;Vending Machin…</td><td>1.094957e6</td><td>1.094957e6</td><td>0.0</td><td>&quot;2011-05-02&quot;</td><td>&quot;2021-05-01&quot;</td><td>&quot;2011-04-04&quot;</td><td>&quot;Police Departm…</td><td>&quot;1&quot;</td><td>&quot;-&quot;</td><td>&quot;CONCESSIONS&quot;</td><td>&quot;COMPETITIVE SE…</td><td>null</td><td>&quot;Standardized S…</td><td>&quot;056090000675&quot;</td><td>null</td><td>&quot;No &quot;</td><td>&quot;No &quot;</td><td>&quot;-&quot;</td><td>&quot;-&quot;</td><td>&quot;-&quot;</td><td>&quot;-&quot;</td><td>&quot;-&quot;</td><td>0.0</td><td>0.0</td><td>0.0</td><td>&quot;-&quot;</td><td>&quot;-&quot;</td><td>&quot;-&quot;</td><td>&quot;No &quot;</td><td>&quot;No &quot;</td></tr><tr><td>&quot;RCT1&quot;</td><td>&quot;RCT10562010820…</td><td>&quot;N/A&quot;</td><td>&quot;Prime Vendor&quot;</td><td>&quot;PROPERTYROOM. …</td><td>&quot;Non-M/WBE&quot;</td><td>&quot;Internet Based…</td><td>1.25e6</td><td>1.25e6</td><td>0.0</td><td>&quot;2010-03-08&quot;</td><td>&quot;2015-03-07&quot;</td><td>&quot;2010-03-04&quot;</td><td>&quot;Police Departm…</td><td>&quot;1&quot;</td><td>&quot;-&quot;</td><td>&quot;OTHER EXPENSE …</td><td>&quot;REQUEST FOR  P…</td><td>null</td><td>&quot;Not Classified…</td><td>&quot;056090000665&quot;</td><td>null</td><td>&quot;No &quot;</td><td>&quot;No &quot;</td><td>&quot;-&quot;</td><td>&quot;-&quot;</td><td>&quot;-&quot;</td><td>&quot;-&quot;</td><td>&quot;-&quot;</td><td>0.0</td><td>0.0</td><td>0.0</td><td>&quot;-&quot;</td><td>&quot;-&quot;</td><td>&quot;-&quot;</td><td>&quot;No &quot;</td><td>&quot;No &quot;</td></tr><tr><td>&quot;RCT1&quot;</td><td>&quot;RCT10562010001…</td><td>&quot;N/A&quot;</td><td>&quot;Prime Vendor&quot;</td><td>&quot;PROPERTYROOM. …</td><td>&quot;Non-M/WBE&quot;</td><td>&quot;AUTO TOWING, S…</td><td>0.0</td><td>0.0</td><td>0.0</td><td>&quot;2009-11-30&quot;</td><td>&quot;2012-11-29&quot;</td><td>&quot;2009-11-12&quot;</td><td>&quot;Police Departm…</td><td>&quot;1&quot;</td><td>&quot;-&quot;</td><td>&quot;MISCREVENUE-NO…</td><td>&quot;REQUEST FOR  P…</td><td>null</td><td>&quot;Not Classified…</td><td>&quot;056090000629&quot;</td><td>null</td><td>&quot;No &quot;</td><td>&quot;No &quot;</td><td>&quot;-&quot;</td><td>&quot;-&quot;</td><td>&quot;-&quot;</td><td>&quot;-&quot;</td><td>&quot;-&quot;</td><td>0.0</td><td>0.0</td><td>0.0</td><td>&quot;-&quot;</td><td>&quot;-&quot;</td><td>&quot;-&quot;</td><td>&quot;No &quot;</td><td>&quot;No &quot;</td></tr><tr><td>&hellip;</td><td>&hellip;</td><td>&hellip;</td><td>&hellip;</td><td>&hellip;</td><td>&hellip;</td><td>&hellip;</td><td>&hellip;</td><td>&hellip;</td><td>&hellip;</td><td>&hellip;</td><td>&hellip;</td><td>&hellip;</td><td>&hellip;</td><td>&hellip;</td><td>&hellip;</td><td>&hellip;</td><td>&hellip;</td><td>&hellip;</td><td>&hellip;</td><td>&hellip;</td><td>&hellip;</td><td>&hellip;</td><td>&hellip;</td><td>&hellip;</td><td>&hellip;</td><td>&hellip;</td><td>&hellip;</td><td>&hellip;</td><td>&hellip;</td><td>&hellip;</td><td>&hellip;</td><td>&hellip;</td><td>&hellip;</td><td>&hellip;</td><td>&hellip;</td><td>&hellip;</td></tr><tr><td>&quot;CT1&quot;</td><td>&quot;CT105620070042…</td><td>&quot;Prior Year Exc…</td><td>&quot;Prime Vendor&quot;</td><td>&quot;INTERNATIONAL …</td><td>&quot;Non-M/WBE&quot;</td><td>&quot;REAL TIME CRIM…</td><td>2.2460e7</td><td>1.55359e7</td><td>2.2459e7</td><td>&quot;2007-07-01&quot;</td><td>&quot;2013-06-30&quot;</td><td>&quot;2007-08-07&quot;</td><td>&quot;Police Departm…</td><td>&quot;5&quot;</td><td>&quot;-&quot;</td><td>&quot;WORK/LABOR&quot;</td><td>&quot;INTERGOVERNMEN…</td><td>&quot;CAPITAL PURCHA…</td><td>&quot;Professional S…</td><td>&quot;05607O0003CNVA…</td><td>&quot;056070000502&quot;</td><td>&quot;No &quot;</td><td>&quot;No &quot;</td><td>&quot;-&quot;</td><td>&quot;-&quot;</td><td>&quot;-&quot;</td><td>&quot;-&quot;</td><td>&quot;-&quot;</td><td>0.0</td><td>0.0</td><td>0.0</td><td>&quot;-&quot;</td><td>&quot;-&quot;</td><td>&quot;-&quot;</td><td>&quot;No &quot;</td><td>&quot;No &quot;</td></tr><tr><td>&quot;CT1&quot;</td><td>&quot;CT105620070022…</td><td>&quot;No Data Entere…</td><td>&quot;Prime Vendor&quot;</td><td>&quot;WILLOUGHBY RID…</td><td>&quot;Non-M/WBE&quot;</td><td>&quot;MANAGEMENT AND…</td><td>1.5398e6</td><td>651856.06</td><td>475746.83</td><td>&quot;2007-01-02&quot;</td><td>&quot;2017-01-02&quot;</td><td>&quot;2006-12-28&quot;</td><td>&quot;Police Departm…</td><td>&quot;13&quot;</td><td>&quot;-&quot;</td><td>&quot;WORK/LABOR&quot;</td><td>&quot;NEGOTIATED ACQ…</td><td>&quot;OTHR SERV AND …</td><td>&quot;Not Classified…</td><td>&quot;05606N0004CNVA…</td><td>&quot;0560600CC446&quot;</td><td>&quot;No &quot;</td><td>&quot;No &quot;</td><td>&quot;-&quot;</td><td>&quot;-&quot;</td><td>&quot;-&quot;</td><td>&quot;-&quot;</td><td>&quot;-&quot;</td><td>0.0</td><td>0.0</td><td>0.0</td><td>&quot;-&quot;</td><td>&quot;-&quot;</td><td>&quot;-&quot;</td><td>&quot;No &quot;</td><td>&quot;No &quot;</td></tr><tr><td>&quot;CT1&quot;</td><td>&quot;CT105620070020…</td><td>&quot;Prior Year Exc…</td><td>&quot;Prime Vendor&quot;</td><td>&quot;SLADE INDUSTRI…</td><td>&quot;Non-M/WBE&quot;</td><td>&quot;RENOVATION OF …</td><td>42408.0</td><td>42408.0</td><td>42408.0</td><td>&quot;2006-11-08&quot;</td><td>&quot;2011-06-30&quot;</td><td>&quot;2006-12-12&quot;</td><td>&quot;Police Departm…</td><td>&quot;2&quot;</td><td>&quot;-&quot;</td><td>&quot;SUPPLIES/MATER…</td><td>&quot;SMALL PURCHASE…</td><td>&quot;CONSTRUCTION-B…</td><td>&quot;Goods&quot;</td><td>&quot;05673660091A&quot;</td><td>null</td><td>&quot;No &quot;</td><td>&quot;No &quot;</td><td>&quot;-&quot;</td><td>&quot;-&quot;</td><td>&quot;-&quot;</td><td>&quot;-&quot;</td><td>&quot;-&quot;</td><td>0.0</td><td>0.0</td><td>0.0</td><td>&quot;-&quot;</td><td>&quot;-&quot;</td><td>&quot;-&quot;</td><td>&quot;No &quot;</td><td>&quot;No &quot;</td></tr><tr><td>&quot;CT1&quot;</td><td>&quot;CT105620070009…</td><td>&quot;Prior Year Exc…</td><td>&quot;Prime Vendor&quot;</td><td>&quot;SIMPLEX GRINNE…</td><td>&quot;Non-M/WBE&quot;</td><td>&quot;UPGRADE CCTV S…</td><td>574159.0</td><td>574159.0</td><td>574159.0</td><td>&quot;2006-10-16&quot;</td><td>&quot;2012-01-12&quot;</td><td>&quot;2006-10-06&quot;</td><td>&quot;Police Departm…</td><td>&quot;3&quot;</td><td>&quot;-&quot;</td><td>&quot;SUPPLIES/MATER…</td><td>&quot;COMPETITIVE SE…</td><td>&quot;CAPITAL PURCHA…</td><td>&quot;Goods&quot;</td><td>&quot;056060000443&quot;</td><td>null</td><td>&quot;No &quot;</td><td>&quot;No &quot;</td><td>&quot;-&quot;</td><td>&quot;-&quot;</td><td>&quot;-&quot;</td><td>&quot;-&quot;</td><td>&quot;-&quot;</td><td>0.0</td><td>0.0</td><td>0.0</td><td>&quot;-&quot;</td><td>&quot;-&quot;</td><td>&quot;-&quot;</td><td>&quot;No &quot;</td><td>&quot;No &quot;</td></tr><tr><td>&quot;CT1&quot;</td><td>&quot;CT105620060040…</td><td>&quot;Prior Year Exc…</td><td>&quot;Prime Vendor&quot;</td><td>&quot;INTERNATIONAL …</td><td>&quot;Non-M/WBE&quot;</td><td>&quot;DATA WAREHOUSE…</td><td>1.4866e7</td><td>1.3011649e7</td><td>1.4847e7</td><td>&quot;2006-07-06&quot;</td><td>&quot;2011-07-05&quot;</td><td>&quot;2006-06-30&quot;</td><td>&quot;Police Departm…</td><td>&quot;3&quot;</td><td>&quot;-&quot;</td><td>&quot;WORK/LABOR&quot;</td><td>&quot;INTERGOVERNMEN…</td><td>&quot;CAPITAL PURCHA…</td><td>&quot;Professional S…</td><td>&quot;056040000386&quot;</td><td>null</td><td>&quot;No &quot;</td><td>&quot;No &quot;</td><td>&quot;-&quot;</td><td>&quot;-&quot;</td><td>&quot;-&quot;</td><td>&quot;-&quot;</td><td>&quot;-&quot;</td><td>0.0</td><td>0.0</td><td>0.0</td><td>&quot;-&quot;</td><td>&quot;-&quot;</td><td>&quot;-&quot;</td><td>&quot;No &quot;</td><td>&quot;No &quot;</td></tr><tr><td>&quot;CT1&quot;</td><td>&quot;CT105620060022…</td><td>&quot;Prior Year Exc…</td><td>&quot;Prime Vendor&quot;</td><td>&quot;MAXIMUS 1 CONT…</td><td>&quot;Non-M/WBE&quot;</td><td>&quot;REMOVE &amp; REPLA…</td><td>1.01526e6</td><td>917000.0</td><td>1.01526e6</td><td>&quot;2006-04-03&quot;</td><td>&quot;2012-04-01&quot;</td><td>&quot;2006-02-02&quot;</td><td>&quot;Police Departm…</td><td>&quot;1&quot;</td><td>&quot;-&quot;</td><td>&quot;CONSTRUCTION&quot;</td><td>&quot;COMPETITIVE SE…</td><td>&quot;CONSTRUCTION-B…</td><td>&quot;Construction S…</td><td>&quot;056050000435&quot;</td><td>null</td><td>&quot;No &quot;</td><td>&quot;No &quot;</td><td>&quot;-&quot;</td><td>&quot;-&quot;</td><td>&quot;-&quot;</td><td>&quot;-&quot;</td><td>&quot;-&quot;</td><td>0.0</td><td>0.0</td><td>0.0</td><td>&quot;-&quot;</td><td>&quot;-&quot;</td><td>&quot;-&quot;</td><td>&quot;No &quot;</td><td>&quot;No &quot;</td></tr><tr><td>&quot;CT1&quot;</td><td>&quot;CT105620050024…</td><td>&quot;Prior Year Exc…</td><td>&quot;Prime Vendor&quot;</td><td>&quot;BBR CONTRACTIN…</td><td>&quot;Non-M/WBE&quot;</td><td>&quot;NEW ROOF &amp; MAS…</td><td>97560.0</td><td>97560.0</td><td>97560.0</td><td>&quot;2005-02-14&quot;</td><td>&quot;2010-08-11&quot;</td><td>&quot;2005-02-04&quot;</td><td>&quot;Police Departm…</td><td>&quot;1&quot;</td><td>&quot;-&quot;</td><td>&quot;CONSTRUCTION&quot;</td><td>&quot;COMPETITIVE SE…</td><td>&quot;CONSTRUCTION-B…</td><td>&quot;Construction S…</td><td>&quot;056050000392&quot;</td><td>null</td><td>&quot;No &quot;</td><td>&quot;No &quot;</td><td>&quot;-&quot;</td><td>&quot;-&quot;</td><td>&quot;-&quot;</td><td>&quot;-&quot;</td><td>&quot;-&quot;</td><td>0.0</td><td>0.0</td><td>0.0</td><td>&quot;-&quot;</td><td>&quot;-&quot;</td><td>&quot;-&quot;</td><td>&quot;No &quot;</td><td>&quot;No &quot;</td></tr><tr><td>&quot;CT1&quot;</td><td>&quot;CT105620050017…</td><td>&quot;Prior Year Exc…</td><td>&quot;Prime Vendor&quot;</td><td>&quot;MAXIMUS 1 CONT…</td><td>&quot;Non-M/WBE&quot;</td><td>&quot;NEW ROOF AT 73…</td><td>469000.0</td><td>417000.0</td><td>469000.0</td><td>&quot;2005-02-28&quot;</td><td>&quot;2011-02-26&quot;</td><td>&quot;2004-12-03&quot;</td><td>&quot;Police Departm…</td><td>&quot;1&quot;</td><td>&quot;-&quot;</td><td>&quot;CONSTRUCTION&quot;</td><td>&quot;COMPETITIVE SE…</td><td>&quot;CONSTRUCTION-B…</td><td>&quot;Construction S…</td><td>&quot;056040000369&quot;</td><td>null</td><td>&quot;No &quot;</td><td>&quot;No &quot;</td><td>&quot;-&quot;</td><td>&quot;-&quot;</td><td>&quot;-&quot;</td><td>&quot;-&quot;</td><td>&quot;-&quot;</td><td>0.0</td><td>0.0</td><td>0.0</td><td>&quot;-&quot;</td><td>&quot;-&quot;</td><td>&quot;-&quot;</td><td>&quot;No &quot;</td><td>&quot;No &quot;</td></tr><tr><td>&quot;CT1&quot;</td><td>&quot;CT105620050007…</td><td>&quot;Prior Year Exc…</td><td>&quot;Prime Vendor&quot;</td><td>&quot;ABCD CONSTRUCT…</td><td>&quot;Non-M/WBE&quot;</td><td>&quot;NEW ROOF AT 48…</td><td>453960.0</td><td>439960.0</td><td>453960.0</td><td>&quot;2004-09-27&quot;</td><td>&quot;2010-09-25&quot;</td><td>&quot;2004-09-14&quot;</td><td>&quot;Police Departm…</td><td>&quot;1&quot;</td><td>&quot;-&quot;</td><td>&quot;CONSTRUCTION&quot;</td><td>&quot;COMPETITIVE SE…</td><td>&quot;CONSTRUCTION-B…</td><td>&quot;Construction S…</td><td>&quot;056040000370&quot;</td><td>null</td><td>&quot;No &quot;</td><td>&quot;No &quot;</td><td>&quot;-&quot;</td><td>&quot;-&quot;</td><td>&quot;-&quot;</td><td>&quot;-&quot;</td><td>&quot;-&quot;</td><td>0.0</td><td>0.0</td><td>0.0</td><td>&quot;-&quot;</td><td>&quot;-&quot;</td><td>&quot;-&quot;</td><td>&quot;No &quot;</td><td>&quot;No &quot;</td></tr><tr><td>&quot;CT1&quot;</td><td>&quot;CT105620040024…</td><td>&quot;Prior Year Exc…</td><td>&quot;Prime Vendor&quot;</td><td>&quot;UNIQUE SYSTEMS…</td><td>&quot;Non-M/WBE&quot;</td><td>&quot;Communication …</td><td>1.3643e7</td><td>8.9000e6</td><td>1.3621e7</td><td>&quot;2004-05-21&quot;</td><td>&quot;2010-10-29&quot;</td><td>&quot;2004-05-14&quot;</td><td>&quot;Police Departm…</td><td>&quot;3&quot;</td><td>&quot;-&quot;</td><td>&quot;WORK/LABOR&quot;</td><td>&quot;NEGOTIATED ACQ…</td><td>&quot;CAPITAL PURCHA…</td><td>&quot;Professional S…</td><td>&quot;056030000308&quot;</td><td>null</td><td>&quot;No &quot;</td><td>&quot;No &quot;</td><td>&quot;-&quot;</td><td>&quot;-&quot;</td><td>&quot;-&quot;</td><td>&quot;-&quot;</td><td>&quot;-&quot;</td><td>0.0</td><td>0.0</td><td>0.0</td><td>&quot;-&quot;</td><td>&quot;-&quot;</td><td>&quot;-&quot;</td><td>&quot;No &quot;</td><td>&quot;No &quot;</td></tr><tr><td>&quot;CT1&quot;</td><td>&quot;CT105620040011…</td><td>&quot;Not Required&quot;</td><td>&quot;Prime Vendor&quot;</td><td>&quot;EXCELLANCE INC…</td><td>&quot;Non-M/WBE&quot;</td><td>&quot;CTD Trucks&quot;</td><td>585027.04</td><td>463387.76</td><td>585027.04</td><td>&quot;2003-11-21&quot;</td><td>&quot;2029-11-20&quot;</td><td>&quot;2003-11-20&quot;</td><td>&quot;Police Departm…</td><td>&quot;1&quot;</td><td>&quot;-&quot;</td><td>&quot;OTHERS&quot;</td><td>&quot;NEGOTIATED ACQ…</td><td>&quot;CAPITAL PURCHA…</td><td>&quot;Not Classified…</td><td>&quot;056030000318&quot;</td><td>null</td><td>&quot;No &quot;</td><td>&quot;No &quot;</td><td>&quot;-&quot;</td><td>&quot;-&quot;</td><td>&quot;-&quot;</td><td>&quot;-&quot;</td><td>&quot;-&quot;</td><td>0.0</td><td>0.0</td><td>0.0</td><td>&quot;-&quot;</td><td>&quot;-&quot;</td><td>&quot;-&quot;</td><td>&quot;No &quot;</td><td>&quot;No &quot;</td></tr><tr><td>&quot;CT1&quot;</td><td>&quot;CT105620020016…</td><td>&quot;Prior Year Exc…</td><td>&quot;Prime Vendor&quot;</td><td>&quot;COMPAQ COMPUTE…</td><td>&quot;Non-M/WBE&quot;</td><td>&quot;Computer Aided…</td><td>6.3922982e7</td><td>4.7054657e7</td><td>2.5388e7</td><td>&quot;2002-07-08&quot;</td><td>&quot;2011-03-21&quot;</td><td>&quot;2002-06-21&quot;</td><td>&quot;Police Departm…</td><td>&quot;1&quot;</td><td>&quot;-&quot;</td><td>&quot;SUPPLIES/MATER…</td><td>&quot;NEGOTIATED ACQ…</td><td>&quot;CAPITAL PURCHA…</td><td>&quot;Goods&quot;</td><td>&quot;056990000105&quot;</td><td>null</td><td>&quot;No &quot;</td><td>&quot;No &quot;</td><td>&quot;-&quot;</td><td>&quot;-&quot;</td><td>&quot;-&quot;</td><td>&quot;-&quot;</td><td>&quot;-&quot;</td><td>0.0</td><td>0.0</td><td>0.0</td><td>&quot;-&quot;</td><td>&quot;-&quot;</td><td>&quot;-&quot;</td><td>&quot;No &quot;</td><td>&quot;No &quot;</td></tr></tbody></table></div>"
      ],
      "text/plain": [
       "shape: (19_459, 37)\n",
       "┌────────────┬────────────┬────────────┬────────────┬───┬────────────┬────────────┬────────────┬────────────┐\n",
       "│ Document   ┆ Prime      ┆ Contract   ┆ Vendor     ┆ … ┆ Sub        ┆ Sub        ┆ Sub Woman  ┆ Sub        │\n",
       "│ Code       ┆ Contract   ┆ Includes   ┆ Record     ┆   ┆ Contract   ┆ Contract   ┆ Owned      ┆ Emerging   │\n",
       "│ ---        ┆ ID         ┆ Sub        ┆ Type       ┆   ┆ End Date   ┆ Reference  ┆ Business   ┆ Business   │\n",
       "│ str        ┆ ---        ┆ Vendors    ┆ ---        ┆   ┆ ---        ┆ ID         ┆ ---        ┆ ---        │\n",
       "│            ┆ str        ┆ ---        ┆ str        ┆   ┆ str        ┆ ---        ┆ str        ┆ str        │\n",
       "│            ┆            ┆ str        ┆            ┆   ┆            ┆ str        ┆            ┆            │\n",
       "╞════════════╪════════════╪════════════╪════════════╪═══╪════════════╪════════════╪════════════╪════════════╡\n",
       "│ RCT1       ┆ RCT1056202 ┆ N/A        ┆ Prime      ┆ … ┆ -          ┆ -          ┆ No         ┆ No         │\n",
       "│            ┆ 38806592   ┆            ┆ Vendor     ┆   ┆            ┆            ┆            ┆            │\n",
       "│ RCT1       ┆ RCT1056202 ┆ N/A        ┆ Prime      ┆ … ┆ -          ┆ -          ┆ No         ┆ No         │\n",
       "│            ┆ 38804445   ┆            ┆ Vendor     ┆   ┆            ┆            ┆            ┆            │\n",
       "│ RCT1       ┆ RCT1056201 ┆ N/A        ┆ Prime      ┆ … ┆ -          ┆ -          ┆ No         ┆ No         │\n",
       "│            ┆ 88202056   ┆            ┆ Vendor     ┆   ┆            ┆            ┆            ┆            │\n",
       "│ RCT1       ┆ RCT1056201 ┆ N/A        ┆ Prime      ┆ … ┆ -          ┆ -          ┆ No         ┆ No         │\n",
       "│            ┆ 88200736   ┆            ┆ Vendor     ┆   ┆            ┆            ┆            ┆            │\n",
       "│ …          ┆ …          ┆ …          ┆ …          ┆ … ┆ …          ┆ …          ┆ …          ┆ …          │\n",
       "│ CT1        ┆ CT10562005 ┆ Prior Year ┆ Prime      ┆ … ┆ -          ┆ -          ┆ No         ┆ No         │\n",
       "│            ┆ 0007650    ┆ Exclusions ┆ Vendor     ┆   ┆            ┆            ┆            ┆            │\n",
       "│ CT1        ┆ CT10562004 ┆ Prior Year ┆ Prime      ┆ … ┆ -          ┆ -          ┆ No         ┆ No         │\n",
       "│            ┆ 0024508    ┆ Exclusions ┆ Vendor     ┆   ┆            ┆            ┆            ┆            │\n",
       "│ CT1        ┆ CT10562004 ┆ Not        ┆ Prime      ┆ … ┆ -          ┆ -          ┆ No         ┆ No         │\n",
       "│            ┆ 0011242    ┆ Required   ┆ Vendor     ┆   ┆            ┆            ┆            ┆            │\n",
       "│ CT1        ┆ CT10562002 ┆ Prior Year ┆ Prime      ┆ … ┆ -          ┆ -          ┆ No         ┆ No         │\n",
       "│            ┆ 0016408    ┆ Exclusions ┆ Vendor     ┆   ┆            ┆            ┆            ┆            │\n",
       "└────────────┴────────────┴────────────┴────────────┴───┴────────────┴────────────┴────────────┴────────────┘"
      ]
     },
     "execution_count": 35,
     "metadata": {},
     "output_type": "execute_result"
    }
   ],
   "source": [
    "nypd_contracts"
   ]
  },
  {
   "cell_type": "code",
   "execution_count": 36,
   "metadata": {},
   "outputs": [
    {
     "name": "stdout",
     "output_type": "stream",
     "text": [
      "{'Document Code': Utf8, 'Prime Contract ID': Utf8, 'Contract Includes Sub Vendors': Utf8, 'Vendor Record Type': Utf8, 'Prime Vendor': Utf8, 'Prime Vendor M/WBE Category': Utf8, 'Prime Contract Purpose': Utf8, 'Prime Contract Current Amount': Float64, 'Prime Contract Original Amount': Float64, 'Prime Vendor Spend to Date': Float64, 'Prime Contract Start Date': Utf8, 'Prime Contract End Date': Utf8, 'Prime Contract Registration Date': Utf8, 'Prime Contracting Agency': Utf8, 'Prime Contract Version': Utf8, 'Parent Contract ID': Utf8, 'Prime Contract Type': Utf8, 'Prime Contract Award Method': Utf8, 'Prime Contract Expense Category': Utf8, 'Prime Contract Industry': Utf8, 'Prime Contract PIN': Utf8, 'Prime Contract APT PIN': Utf8, 'Prime Woman Owned Business': Utf8, 'Prime Emerging Business': Utf8, 'Sub Vendor': Utf8, 'Sub Vendor M/WBE Category': Utf8, 'Sub Contract Purpose': Utf8, 'Sub Vendor Status in PIP': Utf8, 'Sub Contract Industry': Utf8, 'Sub Contract Current Amount': Float64, 'Sub Contract Original Amount': Float64, 'Sub Vendor Paid To Date': Float64, 'Sub Contract Start Date': Utf8, 'Sub Contract End Date': Utf8, 'Sub Contract Reference ID': Utf8, 'Sub Woman Owned Business': Utf8, 'Sub Emerging Business': Utf8}\n"
     ]
    }
   ],
   "source": [
    "print(nypd_contracts.schema)"
   ]
  },
  {
   "cell_type": "markdown",
   "metadata": {},
   "source": [
    "# Visualize data"
   ]
  },
  {
   "cell_type": "code",
   "execution_count": 37,
   "metadata": {},
   "outputs": [
    {
     "data": {
      "text/plain": [
       "vegafusion.enable(mimetype='html', row_limit=100000000, embed_options=None)"
      ]
     },
     "execution_count": 37,
     "metadata": {},
     "output_type": "execute_result"
    }
   ],
   "source": [
    "\n",
    "\n",
    "import vegafusion as vf\n",
    "import polars as pl\n",
    "import altair as alt\n",
    "import altair as alt\n",
    "alt.data_transformers.disable_max_rows()\n",
    "alt.renderers.enable('html')\n",
    "\n",
    "# Configure DuckDB connection\n",
    "vf.runtime.set_connection(\"duckdb\")\n",
    "\n",
    "# Enable Mime Renderer\n",
    "vf.enable(row_limit=100000000)\n",
    "\n"
   ]
  },
  {
   "cell_type": "code",
   "execution_count": 38,
   "metadata": {},
   "outputs": [
    {
     "data": {
      "text/html": [
       "\n",
       "<style>\n",
       "  #altair-viz-ba1035ffe6f0417bae5928e032d97421.vega-embed {\n",
       "    width: 100%;\n",
       "    display: flex;\n",
       "  }\n",
       "\n",
       "  #altair-viz-ba1035ffe6f0417bae5928e032d97421.vega-embed details,\n",
       "  #altair-viz-ba1035ffe6f0417bae5928e032d97421.vega-embed details summary {\n",
       "    position: relative;\n",
       "  }\n",
       "</style>\n",
       "<div id=\"altair-viz-ba1035ffe6f0417bae5928e032d97421\"></div>\n",
       "<script type=\"text/javascript\">\n",
       "  var VEGA_DEBUG = (typeof VEGA_DEBUG == \"undefined\") ? {} : VEGA_DEBUG;\n",
       "  (function(spec, embedOpt){\n",
       "    let outputDiv = document.currentScript.previousElementSibling;\n",
       "    if (outputDiv.id !== \"altair-viz-ba1035ffe6f0417bae5928e032d97421\") {\n",
       "      outputDiv = document.getElementById(\"altair-viz-ba1035ffe6f0417bae5928e032d97421\");\n",
       "    }\n",
       "    const paths = {\n",
       "      \"vega\": \"https://cdn.jsdelivr.net/npm/vega@5?noext\",\n",
       "      \"vega-lib\": \"https://cdn.jsdelivr.net/npm/vega-lib?noext\",\n",
       "      \"vega-lite\": \"https://cdn.jsdelivr.net/npm/vega-lite@5.8.0?noext\",\n",
       "      \"vega-embed\": \"https://cdn.jsdelivr.net/npm/vega-embed@6?noext\",\n",
       "    };\n",
       "\n",
       "    function maybeLoadScript(lib, version) {\n",
       "      var key = `${lib.replace(\"-\", \"\")}_version`;\n",
       "      return (VEGA_DEBUG[key] == version) ?\n",
       "        Promise.resolve(paths[lib]) :\n",
       "        new Promise(function(resolve, reject) {\n",
       "          var s = document.createElement('script');\n",
       "          document.getElementsByTagName(\"head\")[0].appendChild(s);\n",
       "          s.async = true;\n",
       "          s.onload = () => {\n",
       "            VEGA_DEBUG[key] = version;\n",
       "            return resolve(paths[lib]);\n",
       "          };\n",
       "          s.onerror = () => reject(`Error loading script: ${paths[lib]}`);\n",
       "          s.src = paths[lib];\n",
       "        });\n",
       "    }\n",
       "\n",
       "    function showError(err) {\n",
       "      outputDiv.innerHTML = `<div class=\"error\" style=\"color:red;\">${err}</div>`;\n",
       "      throw err;\n",
       "    }\n",
       "\n",
       "    function displayChart(vegaEmbed) {\n",
       "      vegaEmbed(outputDiv, spec, embedOpt)\n",
       "        .catch(err => showError(`Javascript Error: ${err.message}<br>This usually means there's a typo in your chart specification. See the javascript console for the full traceback.`));\n",
       "    }\n",
       "\n",
       "    if(typeof define === \"function\" && define.amd) {\n",
       "      requirejs.config({paths});\n",
       "      require([\"vega-embed\"], displayChart, err => showError(`Error loading script: ${err.message}`));\n",
       "    } else {\n",
       "      maybeLoadScript(\"vega\", \"5\")\n",
       "        .then(() => maybeLoadScript(\"vega-lite\", \"5.8.0\"))\n",
       "        .then(() => maybeLoadScript(\"vega-embed\", \"6\"))\n",
       "        .catch(showError)\n",
       "        .then(() => displayChart(vegaEmbed));\n",
       "    }\n",
       "  })({\"$schema\": \"https://vega.github.io/schema/vega/v5.json\", \"data\": [{\"name\": \"source_0\", \"values\": [{\"Prime Contract Type\": \"WORK/LABOR\", \"__count\": 1593}, {\"Prime Contract Type\": \"OTHER EXPENSE CONTR OR REVENUE RELATD\", \"__count\": 5}, {\"Prime Contract Type\": \"CONCESSIONS\", \"__count\": 4}, {\"Prime Contract Type\": \"MISCREVENUE-NOEXPENSE\", \"__count\": 3}, {\"Prime Contract Type\": \"CONSULTANT\", \"__count\": 161}, {\"Prime Contract Type\": \"REQUIREMENTS-SERVICES\", \"__count\": 131}, {\"Prime Contract Type\": null, \"__count\": 13254}, {\"Prime Contract Type\": \"DOITT-REQUIREMENTSCONTRACT(RC)\", \"__count\": 65}, {\"Prime Contract Type\": \"SUBSCRIPTIONS\", \"__count\": 41}, {\"Prime Contract Type\": \"SUPPLIES/MATERIALS/EQUIPMENT\", \"__count\": 3710}, {\"Prime Contract Type\": \"REQUIREMENTS\", \"__count\": 37}, {\"Prime Contract Type\": \"LESSEE\", \"__count\": 84}, {\"Prime Contract Type\": \"CONSTRUCTION\", \"__count\": 212}, {\"Prime Contract Type\": \"REQUIREMENTS-GOODS\", \"__count\": 30}, {\"Prime Contract Type\": \"PROGRAMS\", \"__count\": 9}, {\"Prime Contract Type\": \"MISCELLANEOUSPROPERTYRENTAL\", \"__count\": 13}, {\"Prime Contract Type\": \"REQUIREMENTS-CONSTRUCTION\", \"__count\": 53}, {\"Prime Contract Type\": \"OTHERS\", \"__count\": 46}, {\"Prime Contract Type\": \"CABLESERVICE\", \"__count\": 1}, {\"Prime Contract Type\": \"PROFESSIONALMEMBERSHIP\", \"__count\": 1}, {\"Prime Contract Type\": \"CONSTRUCTIONMGMT/BUILD\", \"__count\": 2}, {\"Prime Contract Type\": \"INTRA-AGENCYFUNDAGREEMENTS\", \"__count\": 3}, {\"Prime Contract Type\": \"PUBLICUTILITY\", \"__count\": 1}]}, {\"name\": \"source_0_x_domain_Prime Contract Type\", \"values\": [{\"Prime Contract Type\": \"WORK/LABOR\"}, {\"Prime Contract Type\": \"OTHER EXPENSE CONTR OR REVENUE RELATD\"}, {\"Prime Contract Type\": \"CONCESSIONS\"}, {\"Prime Contract Type\": \"MISCREVENUE-NOEXPENSE\"}, {\"Prime Contract Type\": \"CONSULTANT\"}, {\"Prime Contract Type\": \"REQUIREMENTS-SERVICES\"}, {\"Prime Contract Type\": null}, {\"Prime Contract Type\": \"DOITT-REQUIREMENTSCONTRACT(RC)\"}, {\"Prime Contract Type\": \"SUBSCRIPTIONS\"}, {\"Prime Contract Type\": \"SUPPLIES/MATERIALS/EQUIPMENT\"}, {\"Prime Contract Type\": \"REQUIREMENTS\"}, {\"Prime Contract Type\": \"LESSEE\"}, {\"Prime Contract Type\": \"CONSTRUCTION\"}, {\"Prime Contract Type\": \"REQUIREMENTS-GOODS\"}, {\"Prime Contract Type\": \"PROGRAMS\"}, {\"Prime Contract Type\": \"MISCELLANEOUSPROPERTYRENTAL\"}, {\"Prime Contract Type\": \"REQUIREMENTS-CONSTRUCTION\"}, {\"Prime Contract Type\": \"OTHERS\"}, {\"Prime Contract Type\": \"CABLESERVICE\"}, {\"Prime Contract Type\": \"PROFESSIONALMEMBERSHIP\"}, {\"Prime Contract Type\": \"CONSTRUCTIONMGMT/BUILD\"}, {\"Prime Contract Type\": \"INTRA-AGENCYFUNDAGREEMENTS\"}, {\"Prime Contract Type\": \"PUBLICUTILITY\"}]}, {\"name\": \"source_0_y_domain___count\", \"values\": [{\"min\": 1, \"max\": 13254}]}], \"signals\": [{\"name\": \"x_step\", \"value\": 20}, {\"name\": \"width\", \"update\": \"bandspace(domain('x').length, 0.1, 0.05) * x_step\"}], \"marks\": [{\"type\": \"rect\", \"name\": \"marks\", \"from\": {\"data\": \"source_0\"}, \"encode\": {\"update\": {\"x\": {\"field\": \"Prime Contract Type\", \"scale\": \"x\"}, \"width\": {\"signal\": \"max(0.25, bandwidth('x'))\"}, \"ariaRoleDescription\": {\"value\": \"bar\"}, \"description\": {\"signal\": \"\\\"Prime Contract Type: \\\" + (isValid(datum[\\\"Prime Contract Type\\\"]) ? datum[\\\"Prime Contract Type\\\"] : \\\"\\\"+datum[\\\"Prime Contract Type\\\"]) + \\\"; Count of Records: \\\" + (format(datum[\\\"__count\\\"], \\\"\\\"))\"}, \"fill\": {\"value\": \"#4c78a8\"}, \"y\": {\"field\": \"__count\", \"scale\": \"y\"}, \"y2\": {\"value\": 0, \"scale\": \"y\"}}}, \"style\": [\"bar\"]}], \"scales\": [{\"name\": \"x\", \"type\": \"band\", \"domain\": {\"data\": \"source_0_x_domain_Prime Contract Type\", \"field\": \"Prime Contract Type\", \"sort\": true}, \"range\": {\"step\": {\"signal\": \"x_step\"}}, \"paddingInner\": 0.1, \"paddingOuter\": 0.05}, {\"name\": \"y\", \"type\": \"linear\", \"domain\": [{\"signal\": \"(data(\\\"source_0_y_domain___count\\\")[0] || {}).min\"}, {\"signal\": \"(data(\\\"source_0_y_domain___count\\\")[0] || {}).max\"}], \"range\": [{\"signal\": \"height\"}, 0], \"nice\": true, \"zero\": true}], \"axes\": [{\"scale\": \"y\", \"grid\": true, \"minExtent\": 0, \"ticks\": false, \"zindex\": 0, \"maxExtent\": 0, \"aria\": false, \"labels\": false, \"gridScale\": \"x\", \"orient\": \"left\", \"domain\": false, \"tickCount\": {\"signal\": \"ceil(height/40)\"}}, {\"scale\": \"x\", \"labelBaseline\": \"middle\", \"orient\": \"bottom\", \"labelAlign\": \"right\", \"title\": \"Prime Contract Type\", \"zindex\": 0, \"grid\": false, \"labelAngle\": 270}, {\"scale\": \"y\", \"grid\": false, \"orient\": \"left\", \"tickCount\": {\"signal\": \"ceil(height/40)\"}, \"labelOverlap\": true, \"zindex\": 0, \"title\": \"Count of Records\"}], \"style\": \"cell\", \"padding\": 5, \"height\": 300, \"background\": \"white\"}, {\"mode\": \"vega\"});\n",
       "</script>"
      ],
      "text/plain": [
       "alt.Chart(...)"
      ]
     },
     "execution_count": 38,
     "metadata": {},
     "output_type": "execute_result"
    }
   ],
   "source": [
    "# Create a bar chart\n",
    "alt.Chart(contracts).mark_bar().encode(\n",
    "    x='Prime Contract Type:N',\n",
    "    y='count()',\n",
    ")\n",
    "\n"
   ]
  },
  {
   "cell_type": "code",
   "execution_count": 39,
   "metadata": {},
   "outputs": [
    {
     "data": {
      "text/html": [
       "\n",
       "<style>\n",
       "  #altair-viz-a8d744c3e80d4f9a83bdd7a9137aa15b.vega-embed {\n",
       "    width: 100%;\n",
       "    display: flex;\n",
       "  }\n",
       "\n",
       "  #altair-viz-a8d744c3e80d4f9a83bdd7a9137aa15b.vega-embed details,\n",
       "  #altair-viz-a8d744c3e80d4f9a83bdd7a9137aa15b.vega-embed details summary {\n",
       "    position: relative;\n",
       "  }\n",
       "</style>\n",
       "<div id=\"altair-viz-a8d744c3e80d4f9a83bdd7a9137aa15b\"></div>\n",
       "<script type=\"text/javascript\">\n",
       "  var VEGA_DEBUG = (typeof VEGA_DEBUG == \"undefined\") ? {} : VEGA_DEBUG;\n",
       "  (function(spec, embedOpt){\n",
       "    let outputDiv = document.currentScript.previousElementSibling;\n",
       "    if (outputDiv.id !== \"altair-viz-a8d744c3e80d4f9a83bdd7a9137aa15b\") {\n",
       "      outputDiv = document.getElementById(\"altair-viz-a8d744c3e80d4f9a83bdd7a9137aa15b\");\n",
       "    }\n",
       "    const paths = {\n",
       "      \"vega\": \"https://cdn.jsdelivr.net/npm/vega@5?noext\",\n",
       "      \"vega-lib\": \"https://cdn.jsdelivr.net/npm/vega-lib?noext\",\n",
       "      \"vega-lite\": \"https://cdn.jsdelivr.net/npm/vega-lite@5.8.0?noext\",\n",
       "      \"vega-embed\": \"https://cdn.jsdelivr.net/npm/vega-embed@6?noext\",\n",
       "    };\n",
       "\n",
       "    function maybeLoadScript(lib, version) {\n",
       "      var key = `${lib.replace(\"-\", \"\")}_version`;\n",
       "      return (VEGA_DEBUG[key] == version) ?\n",
       "        Promise.resolve(paths[lib]) :\n",
       "        new Promise(function(resolve, reject) {\n",
       "          var s = document.createElement('script');\n",
       "          document.getElementsByTagName(\"head\")[0].appendChild(s);\n",
       "          s.async = true;\n",
       "          s.onload = () => {\n",
       "            VEGA_DEBUG[key] = version;\n",
       "            return resolve(paths[lib]);\n",
       "          };\n",
       "          s.onerror = () => reject(`Error loading script: ${paths[lib]}`);\n",
       "          s.src = paths[lib];\n",
       "        });\n",
       "    }\n",
       "\n",
       "    function showError(err) {\n",
       "      outputDiv.innerHTML = `<div class=\"error\" style=\"color:red;\">${err}</div>`;\n",
       "      throw err;\n",
       "    }\n",
       "\n",
       "    function displayChart(vegaEmbed) {\n",
       "      vegaEmbed(outputDiv, spec, embedOpt)\n",
       "        .catch(err => showError(`Javascript Error: ${err.message}<br>This usually means there's a typo in your chart specification. See the javascript console for the full traceback.`));\n",
       "    }\n",
       "\n",
       "    if(typeof define === \"function\" && define.amd) {\n",
       "      requirejs.config({paths});\n",
       "      require([\"vega-embed\"], displayChart, err => showError(`Error loading script: ${err.message}`));\n",
       "    } else {\n",
       "      maybeLoadScript(\"vega\", \"5\")\n",
       "        .then(() => maybeLoadScript(\"vega-lite\", \"5.8.0\"))\n",
       "        .then(() => maybeLoadScript(\"vega-embed\", \"6\"))\n",
       "        .catch(showError)\n",
       "        .then(() => displayChart(vegaEmbed));\n",
       "    }\n",
       "  })({\"$schema\": \"https://vega.github.io/schema/vega/v5.json\", \"data\": [{\"name\": \"source_0\", \"values\": [{\"Prime Contracting Agency\": \"Police Department\", \"__count\": 19459}]}, {\"name\": \"source_0_x_domain_Prime Contracting Agency\", \"values\": [{\"Prime Contracting Agency\": \"Police Department\"}]}, {\"name\": \"source_0_y_domain___count\", \"values\": [{\"min\": 19459, \"max\": 19459}]}], \"signals\": [{\"name\": \"x_step\", \"value\": 20}, {\"name\": \"width\", \"update\": \"bandspace(domain('x').length, 0.1, 0.05) * x_step\"}], \"marks\": [{\"type\": \"rect\", \"name\": \"marks\", \"from\": {\"data\": \"source_0\"}, \"encode\": {\"update\": {\"width\": {\"signal\": \"max(0.25, bandwidth('x'))\"}, \"y\": {\"field\": \"__count\", \"scale\": \"y\"}, \"ariaRoleDescription\": {\"value\": \"bar\"}, \"fill\": {\"value\": \"#4c78a8\"}, \"description\": {\"signal\": \"\\\"Prime Contracting Agency: \\\" + (isValid(datum[\\\"Prime Contracting Agency\\\"]) ? datum[\\\"Prime Contracting Agency\\\"] : \\\"\\\"+datum[\\\"Prime Contracting Agency\\\"]) + \\\"; Count of Records: \\\" + (format(datum[\\\"__count\\\"], \\\"\\\"))\"}, \"y2\": {\"value\": 0, \"scale\": \"y\"}, \"x\": {\"field\": \"Prime Contracting Agency\", \"scale\": \"x\"}}}, \"style\": [\"bar\"]}], \"scales\": [{\"name\": \"x\", \"type\": \"band\", \"domain\": {\"data\": \"source_0_x_domain_Prime Contracting Agency\", \"field\": \"Prime Contracting Agency\", \"sort\": true}, \"range\": {\"step\": {\"signal\": \"x_step\"}}, \"paddingOuter\": 0.05, \"paddingInner\": 0.1}, {\"name\": \"y\", \"type\": \"linear\", \"domain\": [{\"signal\": \"(data(\\\"source_0_y_domain___count\\\")[0] || {}).min\"}, {\"signal\": \"(data(\\\"source_0_y_domain___count\\\")[0] || {}).max\"}], \"range\": [{\"signal\": \"height\"}, 0], \"zero\": true, \"nice\": true}], \"axes\": [{\"scale\": \"y\", \"ticks\": false, \"orient\": \"left\", \"zindex\": 0, \"domain\": false, \"tickCount\": {\"signal\": \"ceil(height/40)\"}, \"minExtent\": 0, \"labels\": false, \"aria\": false, \"gridScale\": \"x\", \"grid\": true, \"maxExtent\": 0}, {\"scale\": \"x\", \"grid\": false, \"labelAngle\": 270, \"labelBaseline\": \"middle\", \"zindex\": 0, \"labelAlign\": \"right\", \"orient\": \"bottom\", \"title\": \"Prime Contracting Agency\"}, {\"scale\": \"y\", \"title\": \"Count of Records\", \"tickCount\": {\"signal\": \"ceil(height/40)\"}, \"zindex\": 0, \"orient\": \"left\", \"grid\": false, \"labelOverlap\": true}], \"background\": \"white\", \"padding\": 5, \"height\": 300, \"style\": \"cell\"}, {\"mode\": \"vega\"});\n",
       "</script>"
      ],
      "text/plain": [
       "alt.Chart(...)"
      ]
     },
     "execution_count": 39,
     "metadata": {},
     "output_type": "execute_result"
    }
   ],
   "source": [
    "# Create a bar chart\n",
    "alt.Chart(contracts).mark_bar().encode(\n",
    "    x='Prime Contracting Agency:N',\n",
    "    y='count()',\n",
    ")"
   ]
  },
  {
   "cell_type": "code",
   "execution_count": 40,
   "metadata": {},
   "outputs": [
    {
     "data": {
      "text/html": [
       "\n",
       "<style>\n",
       "  #altair-viz-fd08bd7137924440859b2634cc0207b1.vega-embed {\n",
       "    width: 100%;\n",
       "    display: flex;\n",
       "  }\n",
       "\n",
       "  #altair-viz-fd08bd7137924440859b2634cc0207b1.vega-embed details,\n",
       "  #altair-viz-fd08bd7137924440859b2634cc0207b1.vega-embed details summary {\n",
       "    position: relative;\n",
       "  }\n",
       "</style>\n",
       "<div id=\"altair-viz-fd08bd7137924440859b2634cc0207b1\"></div>\n",
       "<script type=\"text/javascript\">\n",
       "  var VEGA_DEBUG = (typeof VEGA_DEBUG == \"undefined\") ? {} : VEGA_DEBUG;\n",
       "  (function(spec, embedOpt){\n",
       "    let outputDiv = document.currentScript.previousElementSibling;\n",
       "    if (outputDiv.id !== \"altair-viz-fd08bd7137924440859b2634cc0207b1\") {\n",
       "      outputDiv = document.getElementById(\"altair-viz-fd08bd7137924440859b2634cc0207b1\");\n",
       "    }\n",
       "    const paths = {\n",
       "      \"vega\": \"https://cdn.jsdelivr.net/npm/vega@5?noext\",\n",
       "      \"vega-lib\": \"https://cdn.jsdelivr.net/npm/vega-lib?noext\",\n",
       "      \"vega-lite\": \"https://cdn.jsdelivr.net/npm/vega-lite@5.8.0?noext\",\n",
       "      \"vega-embed\": \"https://cdn.jsdelivr.net/npm/vega-embed@6?noext\",\n",
       "    };\n",
       "\n",
       "    function maybeLoadScript(lib, version) {\n",
       "      var key = `${lib.replace(\"-\", \"\")}_version`;\n",
       "      return (VEGA_DEBUG[key] == version) ?\n",
       "        Promise.resolve(paths[lib]) :\n",
       "        new Promise(function(resolve, reject) {\n",
       "          var s = document.createElement('script');\n",
       "          document.getElementsByTagName(\"head\")[0].appendChild(s);\n",
       "          s.async = true;\n",
       "          s.onload = () => {\n",
       "            VEGA_DEBUG[key] = version;\n",
       "            return resolve(paths[lib]);\n",
       "          };\n",
       "          s.onerror = () => reject(`Error loading script: ${paths[lib]}`);\n",
       "          s.src = paths[lib];\n",
       "        });\n",
       "    }\n",
       "\n",
       "    function showError(err) {\n",
       "      outputDiv.innerHTML = `<div class=\"error\" style=\"color:red;\">${err}</div>`;\n",
       "      throw err;\n",
       "    }\n",
       "\n",
       "    function displayChart(vegaEmbed) {\n",
       "      vegaEmbed(outputDiv, spec, embedOpt)\n",
       "        .catch(err => showError(`Javascript Error: ${err.message}<br>This usually means there's a typo in your chart specification. See the javascript console for the full traceback.`));\n",
       "    }\n",
       "\n",
       "    if(typeof define === \"function\" && define.amd) {\n",
       "      requirejs.config({paths});\n",
       "      require([\"vega-embed\"], displayChart, err => showError(`Error loading script: ${err.message}`));\n",
       "    } else {\n",
       "      maybeLoadScript(\"vega\", \"5\")\n",
       "        .then(() => maybeLoadScript(\"vega-lite\", \"5.8.0\"))\n",
       "        .then(() => maybeLoadScript(\"vega-embed\", \"6\"))\n",
       "        .catch(showError)\n",
       "        .then(() => displayChart(vegaEmbed));\n",
       "    }\n",
       "  })({\"$schema\": \"https://vega.github.io/schema/vega/v5.json\", \"data\": [{\"name\": \"source_0\", \"values\": [{\"__count\": 7, \"bin_maxbins_20_Prime Contract Original Amount\": 20000000.0, \"bin_maxbins_20_Prime Contract Original Amount_end\": 25000000.0}, {\"__count\": 15, \"bin_maxbins_20_Prime Contract Original Amount\": 10000000.0, \"bin_maxbins_20_Prime Contract Original Amount_end\": 15000000.0}, {\"__count\": 11, \"bin_maxbins_20_Prime Contract Original Amount\": 15000000.0, \"bin_maxbins_20_Prime Contract Original Amount_end\": 20000000.0}, {\"__count\": 3, \"bin_maxbins_20_Prime Contract Original Amount\": 70000000.0, \"bin_maxbins_20_Prime Contract Original Amount_end\": 75000000.0}, {\"__count\": 9, \"bin_maxbins_20_Prime Contract Original Amount\": 25000000.0, \"bin_maxbins_20_Prime Contract Original Amount_end\": 30000000.0}, {\"__count\": 5, \"bin_maxbins_20_Prime Contract Original Amount\": 40000000.0, \"bin_maxbins_20_Prime Contract Original Amount_end\": 45000000.0}, {\"__count\": 2, \"bin_maxbins_20_Prime Contract Original Amount\": 45000000.0, \"bin_maxbins_20_Prime Contract Original Amount_end\": 50000000.0}, {\"__count\": 2, \"bin_maxbins_20_Prime Contract Original Amount\": 75000000.0, \"bin_maxbins_20_Prime Contract Original Amount_end\": 80000000.0}, {\"__count\": 2, \"bin_maxbins_20_Prime Contract Original Amount\": 35000000.0, \"bin_maxbins_20_Prime Contract Original Amount_end\": 40000000.0}, {\"__count\": 6, \"bin_maxbins_20_Prime Contract Original Amount\": 30000000.0, \"bin_maxbins_20_Prime Contract Original Amount_end\": 35000000.0}, {\"__count\": 1, \"bin_maxbins_20_Prime Contract Original Amount\": 55000000.0, \"bin_maxbins_20_Prime Contract Original Amount_end\": 60000000.0}, {\"__count\": 3, \"bin_maxbins_20_Prime Contract Original Amount\": 60000000.0, \"bin_maxbins_20_Prime Contract Original Amount_end\": 65000000.0}, {\"__count\": 1, \"bin_maxbins_20_Prime Contract Original Amount\": 50000000.0, \"bin_maxbins_20_Prime Contract Original Amount_end\": 55000000.0}, {\"__count\": 1, \"bin_maxbins_20_Prime Contract Original Amount\": 65000000.0, \"bin_maxbins_20_Prime Contract Original Amount_end\": 70000000.0}]}, {\"name\": \"source_0_y_domain___count\", \"values\": [{\"min\": 1, \"max\": 15}]}], \"signals\": [{\"name\": \"bin_maxbins_20_Prime_Contract_Original_Amount_bins\", \"value\": {\"fields\": [\"Prime Contract Original Amount\"], \"fname\": \"bin_Prime Contract Original Amount\", \"start\": 10000000.0, \"step\": 5000000.0, \"stop\": 80000000.0}}], \"marks\": [{\"type\": \"rect\", \"name\": \"marks\", \"from\": {\"data\": \"source_0\"}, \"encode\": {\"update\": {\"x2\": {\"field\": \"bin_maxbins_20_Prime Contract Original Amount\", \"scale\": \"x\", \"offset\": 1}, \"description\": {\"signal\": \"\\\"Prime Contract Original Amount (binned): \\\" + (!isValid(datum[\\\"bin_maxbins_20_Prime Contract Original Amount\\\"]) || !isFinite(+datum[\\\"bin_maxbins_20_Prime Contract Original Amount\\\"]) ? \\\"null\\\" : format(datum[\\\"bin_maxbins_20_Prime Contract Original Amount\\\"], \\\"\\\") + \\\" \\u2013 \\\" + format(datum[\\\"bin_maxbins_20_Prime Contract Original Amount_end\\\"], \\\"\\\")) + \\\"; Count of Records: \\\" + (format(datum[\\\"__count\\\"], \\\"\\\"))\"}, \"fill\": {\"value\": \"#4c78a8\"}, \"ariaRoleDescription\": {\"value\": \"bar\"}, \"x\": {\"field\": \"bin_maxbins_20_Prime Contract Original Amount_end\", \"scale\": \"x\"}, \"y\": {\"field\": \"__count\", \"scale\": \"y\"}, \"y2\": {\"value\": 0, \"scale\": \"y\"}}}, \"style\": [\"bar\"]}], \"scales\": [{\"name\": \"x\", \"type\": \"linear\", \"domain\": {\"signal\": \"[bin_maxbins_20_Prime_Contract_Original_Amount_bins.start, bin_maxbins_20_Prime_Contract_Original_Amount_bins.stop]\"}, \"range\": [0, {\"signal\": \"width\"}], \"bins\": {\"signal\": \"bin_maxbins_20_Prime_Contract_Original_Amount_bins\"}, \"zero\": false}, {\"name\": \"y\", \"type\": \"linear\", \"domain\": [{\"signal\": \"(data(\\\"source_0_y_domain___count\\\")[0] || {}).min\"}, {\"signal\": \"(data(\\\"source_0_y_domain___count\\\")[0] || {}).max\"}], \"range\": [{\"signal\": \"height\"}, 0], \"nice\": true, \"zero\": true}], \"axes\": [{\"scale\": \"y\", \"domain\": false, \"tickCount\": {\"signal\": \"ceil(height/40)\"}, \"aria\": false, \"labels\": false, \"orient\": \"left\", \"zindex\": 0, \"maxExtent\": 0, \"ticks\": false, \"grid\": true, \"gridScale\": \"x\", \"minExtent\": 0}, {\"scale\": \"x\", \"labelFlush\": true, \"tickCount\": {\"signal\": \"ceil(width/10)\"}, \"zindex\": 0, \"grid\": false, \"orient\": \"bottom\", \"title\": \"Prime Contract Original Amount (binned)\", \"labelOverlap\": true}, {\"scale\": \"y\", \"labelOverlap\": true, \"zindex\": 0, \"title\": \"Count of Records\", \"grid\": false, \"orient\": \"left\", \"tickCount\": {\"signal\": \"ceil(height/40)\"}}], \"padding\": 5, \"height\": 300, \"style\": \"cell\", \"background\": \"white\", \"width\": 300}, {\"mode\": \"vega\"});\n",
       "</script>"
      ],
      "text/plain": [
       "alt.Chart(...)"
      ]
     },
     "execution_count": 40,
     "metadata": {},
     "output_type": "execute_result"
    }
   ],
   "source": [
    "# Create a bar chart\n",
    "alt.Chart(contracts).mark_bar().encode(\n",
    "    alt.X('Prime Contract Original Amount:Q').bin(maxbins=20),\n",
    "    y='count()',\n",
    ").transform_filter(\n",
    "    alt.FieldGTPredicate(field='Prime Contract Original Amount', gt=10000000)\n",
    ")"
   ]
  }
 ],
 "metadata": {
  "kernelspec": {
   "display_name": "Python 3",
   "language": "python",
   "name": "python3"
  },
  "language_info": {
   "codemirror_mode": {
    "name": "ipython",
    "version": 3
   },
   "file_extension": ".py",
   "mimetype": "text/x-python",
   "name": "python",
   "nbconvert_exporter": "python",
   "pygments_lexer": "ipython3",
   "version": "3.11.0"
  },
  "orig_nbformat": 4
 },
 "nbformat": 4,
 "nbformat_minor": 2
}
