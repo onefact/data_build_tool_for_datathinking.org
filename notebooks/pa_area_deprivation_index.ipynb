{
 "cells": [
  {
   "attachments": {},
   "cell_type": "markdown",
   "metadata": {},
   "source": [
    "# Downloading data\n",
    "\n",
    "This data comes from the City of New York, and can be read about here: \n",
    "\n",
    "https://data.cityofnewyork.us/Social-Services/311-Service-Requests-from-2010-to-Present/erm2-nwe9\n",
    "\n",
    "The actual data download link is: \n",
    "\n",
    "https://data.cityofnewyork.us/api/views/erm2-nwe9/rows.csv?accessType=DOWNLOAD\n",
    "\n",
    "The following code downloads the data to your computer; the file is about 18 gigabytes, so it may take an hour or several depending on your internet speed."
   ]
  },
  {
   "cell_type": "code",
   "execution_count": null,
   "metadata": {},
   "outputs": [],
   "source": [
    "#import urllib.request\n",
    "#urllib.request.urlretrieve(\"https://data.cityofnewyork.us/api/views/erm2-nwe9/rows.csv?accessType=DOWNLOAD\", \"./data/cityofnewyork.us/311-Service-Requests-from-2010-to-Present.csv\")"
   ]
  },
  {
   "attachments": {},
   "cell_type": "markdown",
   "metadata": {},
   "source": [
    "# Displaying raw data\n",
    "First check out what the header of the column-separated value (csv) file looks like:"
   ]
  },
  {
   "cell_type": "code",
   "execution_count": null,
   "metadata": {},
   "outputs": [],
   "source": [
    "#!head -n 4 ./data/cityofnewyork.us/311-Service-Requests-from-2010-to-Present.csv"
   ]
  },
  {
   "attachments": {},
   "cell_type": "markdown",
   "metadata": {},
   "source": [
    "# Loading the data into a database\n",
    "\n",
    "We will use the `duckdb` database to load the data into a database. This will allow us to query the data using the structured query language (SQL)."
   ]
  },
  {
   "cell_type": "code",
   "execution_count": 1,
   "metadata": {},
   "outputs": [],
   "source": [
    "# Load duckdb, which lets us efficiently load large files\n",
    "import duckdb\n",
    "\n",
    "# Load pandas, which lets us manipulate dataframes\n",
    "import pandas as pd\n",
    "\n",
    "# Import jupysql Jupyter extension to create SQL cells\n",
    "%load_ext sql\n",
    "\n",
    "# Set configrations on jupysql to directly output data to Pandas and to simplify the output that is printed to the notebook.\n",
    "%config SqlMagic.autopandas = True\n",
    "\n",
    "%config SqlMagic.feedback = False\n",
    "%config SqlMagic.displaycon = False\n",
    "\n",
    "# Connect jupysql to DuckDB using a SQLAlchemy-style connection string. Either connect to an in memory DuckDB, or a file backed db.\n",
    "%sql duckdb:///:memory:"
   ]
  },
  {
   "cell_type": "code",
   "execution_count": 2,
   "metadata": {},
   "outputs": [
    {
     "name": "stdout",
     "output_type": "stream",
     "text": [
      "<class 'pandas.core.frame.DataFrame'>\n",
      "RangeIndex: 2421529 entries, 0 to 2421528\n",
      "Data columns (total 7 columns):\n",
      " #   Column        Dtype  \n",
      "---  ------        -----  \n",
      " 0   INDEX         int64  \n",
      " 1   GISJOIN       object \n",
      " 2   TYPE          object \n",
      " 3   ADI_NATRANK   object \n",
      " 4   ADI_STATERNK  object \n",
      " 5   BENE_ZIP_CD   int64  \n",
      " 6   FIPS          float64\n",
      "dtypes: float64(1), int64(2), object(4)\n",
      "memory usage: 129.3+ MB\n"
     ]
    },
    {
     "data": {
      "text/html": [
       "<div>\n",
       "<style scoped>\n",
       "    .dataframe tbody tr th:only-of-type {\n",
       "        vertical-align: middle;\n",
       "    }\n",
       "\n",
       "    .dataframe tbody tr th {\n",
       "        vertical-align: top;\n",
       "    }\n",
       "\n",
       "    .dataframe thead th {\n",
       "        text-align: right;\n",
       "    }\n",
       "</style>\n",
       "<table border=\"1\" class=\"dataframe\">\n",
       "  <thead>\n",
       "    <tr style=\"text-align: right;\">\n",
       "      <th></th>\n",
       "      <th>INDEX</th>\n",
       "      <th>GISJOIN</th>\n",
       "      <th>TYPE</th>\n",
       "      <th>ADI_NATRANK</th>\n",
       "      <th>ADI_STATERNK</th>\n",
       "      <th>BENE_ZIP_CD</th>\n",
       "      <th>FIPS</th>\n",
       "    </tr>\n",
       "  </thead>\n",
       "  <tbody>\n",
       "    <tr>\n",
       "      <th>0</th>\n",
       "      <td>1</td>\n",
       "      <td>G42000706047001</td>\n",
       "      <td>NaN</td>\n",
       "      <td>96</td>\n",
       "      <td>10</td>\n",
       "      <td>150010001</td>\n",
       "      <td>4.200760e+11</td>\n",
       "    </tr>\n",
       "    <tr>\n",
       "      <th>1</th>\n",
       "      <td>2</td>\n",
       "      <td>G42000706047001</td>\n",
       "      <td>NaN</td>\n",
       "      <td>96</td>\n",
       "      <td>10</td>\n",
       "      <td>150010002</td>\n",
       "      <td>4.200760e+11</td>\n",
       "    </tr>\n",
       "    <tr>\n",
       "      <th>2</th>\n",
       "      <td>3</td>\n",
       "      <td>G42000706047001</td>\n",
       "      <td>NaN</td>\n",
       "      <td>96</td>\n",
       "      <td>10</td>\n",
       "      <td>150010003</td>\n",
       "      <td>4.200760e+11</td>\n",
       "    </tr>\n",
       "    <tr>\n",
       "      <th>3</th>\n",
       "      <td>4</td>\n",
       "      <td>G42000706047001</td>\n",
       "      <td>NaN</td>\n",
       "      <td>96</td>\n",
       "      <td>10</td>\n",
       "      <td>150010004</td>\n",
       "      <td>4.200760e+11</td>\n",
       "    </tr>\n",
       "    <tr>\n",
       "      <th>4</th>\n",
       "      <td>5</td>\n",
       "      <td>G42000706047001</td>\n",
       "      <td>NaN</td>\n",
       "      <td>96</td>\n",
       "      <td>10</td>\n",
       "      <td>150010005</td>\n",
       "      <td>4.200760e+11</td>\n",
       "    </tr>\n",
       "  </tbody>\n",
       "</table>\n",
       "</div>"
      ],
      "text/plain": [
       "   INDEX          GISJOIN TYPE ADI_NATRANK ADI_STATERNK  BENE_ZIP_CD  \\\n",
       "0      1  G42000706047001  NaN          96           10    150010001   \n",
       "1      2  G42000706047001  NaN          96           10    150010002   \n",
       "2      3  G42000706047001  NaN          96           10    150010003   \n",
       "3      4  G42000706047001  NaN          96           10    150010004   \n",
       "4      5  G42000706047001  NaN          96           10    150010005   \n",
       "\n",
       "           FIPS  \n",
       "0  4.200760e+11  \n",
       "1  4.200760e+11  \n",
       "2  4.200760e+11  \n",
       "3  4.200760e+11  \n",
       "4  4.200760e+11  "
      ]
     },
     "execution_count": 2,
     "metadata": {},
     "output_type": "execute_result"
    }
   ],
   "source": [
    "import pandas as pd\n",
    "\n",
    "df = pd.read_csv('/Users/brenstockdale/Downloads/Data Downloads/adi-download/PA_2021_ADI_9 Digit Zip Code_v4.csv')\n",
    "df.info()\n",
    "df.head()\n"
   ]
  },
  {
   "cell_type": "code",
   "execution_count": 4,
   "metadata": {},
   "outputs": [
    {
     "data": {
      "text/html": [
       "<div>\n",
       "<style scoped>\n",
       "    .dataframe tbody tr th:only-of-type {\n",
       "        vertical-align: middle;\n",
       "    }\n",
       "\n",
       "    .dataframe tbody tr th {\n",
       "        vertical-align: top;\n",
       "    }\n",
       "\n",
       "    .dataframe thead th {\n",
       "        text-align: right;\n",
       "    }\n",
       "</style>\n",
       "<table border=\"1\" class=\"dataframe\">\n",
       "  <thead>\n",
       "    <tr style=\"text-align: right;\">\n",
       "      <th></th>\n",
       "      <th>INDEX</th>\n",
       "      <th>GISJOIN</th>\n",
       "      <th>TYPE</th>\n",
       "      <th>ADI_NATRANK</th>\n",
       "      <th>ADI_STATERNK</th>\n",
       "      <th>BENE_ZIP_CD</th>\n",
       "      <th>FIPS</th>\n",
       "    </tr>\n",
       "  </thead>\n",
       "  <tbody>\n",
       "    <tr>\n",
       "      <th>0</th>\n",
       "      <td>1</td>\n",
       "      <td>G42000706047001</td>\n",
       "      <td>NaN</td>\n",
       "      <td>96</td>\n",
       "      <td>10</td>\n",
       "      <td>150010001</td>\n",
       "      <td>4.200761e+11</td>\n",
       "    </tr>\n",
       "    <tr>\n",
       "      <th>1</th>\n",
       "      <td>2</td>\n",
       "      <td>G42000706047001</td>\n",
       "      <td>NaN</td>\n",
       "      <td>96</td>\n",
       "      <td>10</td>\n",
       "      <td>150010002</td>\n",
       "      <td>4.200761e+11</td>\n",
       "    </tr>\n",
       "    <tr>\n",
       "      <th>2</th>\n",
       "      <td>3</td>\n",
       "      <td>G42000706047001</td>\n",
       "      <td>NaN</td>\n",
       "      <td>96</td>\n",
       "      <td>10</td>\n",
       "      <td>150010003</td>\n",
       "      <td>4.200761e+11</td>\n",
       "    </tr>\n",
       "    <tr>\n",
       "      <th>3</th>\n",
       "      <td>4</td>\n",
       "      <td>G42000706047001</td>\n",
       "      <td>NaN</td>\n",
       "      <td>96</td>\n",
       "      <td>10</td>\n",
       "      <td>150010004</td>\n",
       "      <td>4.200761e+11</td>\n",
       "    </tr>\n",
       "    <tr>\n",
       "      <th>4</th>\n",
       "      <td>5</td>\n",
       "      <td>G42000706047001</td>\n",
       "      <td>NaN</td>\n",
       "      <td>96</td>\n",
       "      <td>10</td>\n",
       "      <td>150010005</td>\n",
       "      <td>4.200761e+11</td>\n",
       "    </tr>\n",
       "    <tr>\n",
       "      <th>...</th>\n",
       "      <td>...</td>\n",
       "      <td>...</td>\n",
       "      <td>...</td>\n",
       "      <td>...</td>\n",
       "      <td>...</td>\n",
       "      <td>...</td>\n",
       "      <td>...</td>\n",
       "    </tr>\n",
       "    <tr>\n",
       "      <th>2421524</th>\n",
       "      <td>2421525</td>\n",
       "      <td>G42001100006002</td>\n",
       "      <td>P</td>\n",
       "      <td>P</td>\n",
       "      <td>P</td>\n",
       "      <td>196129622</td>\n",
       "      <td>4.201100e+11</td>\n",
       "    </tr>\n",
       "    <tr>\n",
       "      <th>2421525</th>\n",
       "      <td>2421526</td>\n",
       "      <td>G42001100006002</td>\n",
       "      <td>P</td>\n",
       "      <td>P</td>\n",
       "      <td>P</td>\n",
       "      <td>196129660</td>\n",
       "      <td>4.201100e+11</td>\n",
       "    </tr>\n",
       "    <tr>\n",
       "      <th>2421526</th>\n",
       "      <td>2421527</td>\n",
       "      <td>G42001100006002</td>\n",
       "      <td>P</td>\n",
       "      <td>P</td>\n",
       "      <td>P</td>\n",
       "      <td>196129991</td>\n",
       "      <td>4.201100e+11</td>\n",
       "    </tr>\n",
       "    <tr>\n",
       "      <th>2421527</th>\n",
       "      <td>2421528</td>\n",
       "      <td>G42001100006002</td>\n",
       "      <td>P</td>\n",
       "      <td>P</td>\n",
       "      <td>P</td>\n",
       "      <td>196129992</td>\n",
       "      <td>4.201100e+11</td>\n",
       "    </tr>\n",
       "    <tr>\n",
       "      <th>2421528</th>\n",
       "      <td>2421529</td>\n",
       "      <td>G42001100006002</td>\n",
       "      <td>P</td>\n",
       "      <td>P</td>\n",
       "      <td>P</td>\n",
       "      <td>196129999</td>\n",
       "      <td>4.201100e+11</td>\n",
       "    </tr>\n",
       "  </tbody>\n",
       "</table>\n",
       "<p>2421529 rows × 7 columns</p>\n",
       "</div>"
      ],
      "text/plain": [
       "           INDEX          GISJOIN TYPE ADI_NATRANK ADI_STATERNK  BENE_ZIP_CD  \\\n",
       "0              1  G42000706047001  NaN          96           10    150010001   \n",
       "1              2  G42000706047001  NaN          96           10    150010002   \n",
       "2              3  G42000706047001  NaN          96           10    150010003   \n",
       "3              4  G42000706047001  NaN          96           10    150010004   \n",
       "4              5  G42000706047001  NaN          96           10    150010005   \n",
       "...          ...              ...  ...         ...          ...          ...   \n",
       "2421524  2421525  G42001100006002    P           P            P    196129622   \n",
       "2421525  2421526  G42001100006002    P           P            P    196129660   \n",
       "2421526  2421527  G42001100006002    P           P            P    196129991   \n",
       "2421527  2421528  G42001100006002    P           P            P    196129992   \n",
       "2421528  2421529  G42001100006002    P           P            P    196129999   \n",
       "\n",
       "                 FIPS  \n",
       "0        4.200761e+11  \n",
       "1        4.200761e+11  \n",
       "2        4.200761e+11  \n",
       "3        4.200761e+11  \n",
       "4        4.200761e+11  \n",
       "...               ...  \n",
       "2421524  4.201100e+11  \n",
       "2421525  4.201100e+11  \n",
       "2421526  4.201100e+11  \n",
       "2421527  4.201100e+11  \n",
       "2421528  4.201100e+11  \n",
       "\n",
       "[2421529 rows x 7 columns]"
      ]
     },
     "execution_count": 4,
     "metadata": {},
     "output_type": "execute_result"
    }
   ],
   "source": [
    "%%sql\n",
    "SELECT * \n",
    "FROM read_csv('/Users/brenstockdale/Downloads/Data Downloads/adi-download/PA_2021_ADI_9 Digit Zip Code_v4.csv',\n",
    "    header=True,\n",
    "    delim=',',\n",
    "    quote='\"',\n",
    "    columns={\n",
    "        'INDEX': 'INT',\n",
    "        'GISJOIN': 'VARCHAR',\n",
    "        'TYPE': 'VARCHAR',\n",
    "        'ADI_NATRANK': 'VARCHAR',\n",
    "        'ADI_STATERNK': 'VARCHAR',\n",
    "        'BENE_ZIP_CD': 'INT',\n",
    "        'FIPS': 'FLOAT'\n",
    "    }\n",
    ")"
   ]
  },
  {
   "attachments": {},
   "cell_type": "markdown",
   "metadata": {},
   "source": [
    "# Saving the database to a parquet file\n",
    "\n",
    "A parquet file is a columnar data format that is optimized for reading and writing data. `duckdb` can save the data to a parquet file."
   ]
  },
  {
   "cell_type": "code",
   "execution_count": 5,
   "metadata": {},
   "outputs": [
    {
     "data": {
      "application/vnd.jupyter.widget-view+json": {
       "model_id": "b7f5d9c76d7a466b90ed084db1909309",
       "version_major": 2,
       "version_minor": 0
      },
      "text/plain": [
       "FloatProgress(value=0.0, layout=Layout(width='auto'), style=ProgressStyle(bar_color='black'))"
      ]
     },
     "metadata": {},
     "output_type": "display_data"
    },
    {
     "data": {
      "text/html": [
       "<div>\n",
       "<style scoped>\n",
       "    .dataframe tbody tr th:only-of-type {\n",
       "        vertical-align: middle;\n",
       "    }\n",
       "\n",
       "    .dataframe tbody tr th {\n",
       "        vertical-align: top;\n",
       "    }\n",
       "\n",
       "    .dataframe thead th {\n",
       "        text-align: right;\n",
       "    }\n",
       "</style>\n",
       "<table border=\"1\" class=\"dataframe\">\n",
       "  <thead>\n",
       "    <tr style=\"text-align: right;\">\n",
       "      <th></th>\n",
       "      <th>Count</th>\n",
       "    </tr>\n",
       "  </thead>\n",
       "  <tbody>\n",
       "    <tr>\n",
       "      <th>0</th>\n",
       "      <td>2421529</td>\n",
       "    </tr>\n",
       "  </tbody>\n",
       "</table>\n",
       "</div>"
      ],
      "text/plain": [
       "     Count\n",
       "0  2421529"
      ]
     },
     "execution_count": 5,
     "metadata": {},
     "output_type": "execute_result"
    }
   ],
   "source": [
    "%%sql\n",
    "COPY (SELECT * \n",
    "FROM read_csv('/Users/brenstockdale/Downloads/Data Downloads/adi-download/PA_2021_ADI_9 Digit Zip Code_v4.csv',\n",
    "    header=True,\n",
    "    delim=',',\n",
    "    quote='\"',\n",
    "    columns={\n",
    "        'INDEX': 'INT',\n",
    "        'GISJOIN': 'VARCHAR',\n",
    "        'TYPE': 'VARCHAR',\n",
    "        'ADI_NATRANK': 'VARCHAR',\n",
    "        'ADI_STATERNK': 'VARCHAR',\n",
    "        'BENE_ZIP_CD': 'INT',\n",
    "        'FIPS': 'FLOAT'\n",
    "    }\n",
    ")) TO '/Users/brenstockdale/Downloads/Data Downloads/adi-download/PA_2021_ADI_9 Digit Zip Code_v4.parquet' (COMPRESSION ZSTD);"
   ]
  },
  {
   "attachments": {},
   "cell_type": "markdown",
   "metadata": {},
   "source": [
    "# Visualizing the data\n",
    "\n",
    "We will use the `altair` library to visualize the data. This library is based on the `vega-lite` visualization grammar, which is a high-level visualization grammar that is based on the `vega` visualization grammar. `vega` is a low-level visualization grammar that is based on the `d3` visualization library.\n",
    "\n",
    "Vega fusion is a library that allows us to embed `vega-lite` visualizations in Jupyter notebooks, using data from a `duckdb` database."
   ]
  },
  {
   "cell_type": "code",
   "execution_count": 1,
   "metadata": {},
   "outputs": [
    {
     "data": {
      "text/plain": [
       "vegafusion.enable(mimetype='html', row_limit=100000000, embed_options=None)"
      ]
     },
     "execution_count": 1,
     "metadata": {},
     "output_type": "execute_result"
    }
   ],
   "source": [
    "import vegafusion as vf\n",
    "import polars as pl\n",
    "import altair as alt\n",
    "import altair as alt\n",
    "alt.data_transformers.disable_max_rows()\n",
    "alt.renderers.enable('html')\n",
    "\n",
    "# Configure DuckDB connection\n",
    "vf.runtime.set_connection(\"duckdb\")\n",
    "\n",
    "# Enable Mime Renderer\n",
    "vf.enable(row_limit=100000000)"
   ]
  },
  {
   "cell_type": "code",
   "execution_count": 2,
   "metadata": {},
   "outputs": [],
   "source": [
    "# Load the phone calls data into a Polars datafram\n",
    "phone_calls = pl.read_parquet(\"/Users/brenstockdale/Downloads/Data Downloads/adi-download/PA_2021_ADI_9 Digit Zip Code_v4.parquet\")"
   ]
  },
  {
   "cell_type": "code",
   "execution_count": null,
   "metadata": {},
   "outputs": [],
   "source": [
    "# Load the data from the public datathinking.org Amazon S3 bucket\n",
    "# The file is about 2 gigabytes, so this may take a few minutes (5-10 minutes is normal depending on internet speed!)\n",
    "# You can also download this file on the command line using wget (`wget https://public.datathinking.org/cityofnewyork.us%2F311-Service-Requests-from-2010-to-Present.parquet`)\n",
    "# You can also download this file using a web browser by visiting https://public.datathinking.org/cityofnewyork.us%2F311-Service-Requests-from-2010-to-Present.parquet\n",
    "#phone_calls = pl.read_parquet(\"https://public.datathinking.org/cityofnewyork.us%2F311-Service-Requests-from-2010-to-Present.parquet\")"
   ]
  },
  {
   "cell_type": "code",
   "execution_count": 3,
   "metadata": {},
   "outputs": [
    {
     "name": "stdout",
     "output_type": "stream",
     "text": [
      "{'INDEX': Int32, 'GISJOIN': Utf8, 'TYPE': Utf8, 'ADI_NATRANK': Utf8, 'ADI_STATERNK': Utf8, 'BENE_ZIP_CD': Int32, 'FIPS': Float32}\n"
     ]
    }
   ],
   "source": [
    "print(phone_calls.schema)"
   ]
  },
  {
   "cell_type": "code",
   "execution_count": 4,
   "metadata": {},
   "outputs": [
    {
     "name": "stderr",
     "output_type": "stream",
     "text": [
      "thread '<unnamed>' panicked at 'Failed to get node value: DataFusionError(SchemaError(FieldNotFound { field: Column { relation: None, name: \"Agency\" }, valid_fields: [Column { relation: None, name: \"_vf_order\" }, Column { relation: None, name: \"INDEX\" }, Column { relation: None, name: \"GISJOIN\" }, Column { relation: None, name: \"TYPE\" }, Column { relation: None, name: \"ADI_NATRANK\" }, Column { relation: None, name: \"ADI_STATERNK\" }, Column { relation: None, name: \"BENE_ZIP_CD\" }, Column { relation: None, name: \"FIPS\" }] }), ErrorContext { contexts: [] })', /Users/runner/work/vegafusion/vegafusion/vegafusion-runtime/src/task_graph/runtime.rs:775:18\n",
      "note: run with `RUST_BACKTRACE=1` environment variable to display a backtrace\n"
     ]
    },
    {
     "ename": "PanicException",
     "evalue": "Failed to get node value: DataFusionError(SchemaError(FieldNotFound { field: Column { relation: None, name: \"Agency\" }, valid_fields: [Column { relation: None, name: \"_vf_order\" }, Column { relation: None, name: \"INDEX\" }, Column { relation: None, name: \"GISJOIN\" }, Column { relation: None, name: \"TYPE\" }, Column { relation: None, name: \"ADI_NATRANK\" }, Column { relation: None, name: \"ADI_STATERNK\" }, Column { relation: None, name: \"BENE_ZIP_CD\" }, Column { relation: None, name: \"FIPS\" }] }), ErrorContext { contexts: [] })",
     "output_type": "error",
     "traceback": [
      "\u001b[0;31m---------------------------------------------------------------------------\u001b[0m",
      "\u001b[0;31mPanicException\u001b[0m                            Traceback (most recent call last)",
      "Cell \u001b[0;32mIn[4], line 2\u001b[0m\n\u001b[1;32m      1\u001b[0m \u001b[39m# Create a bar chart\u001b[39;00m\n\u001b[0;32m----> 2\u001b[0m alt\u001b[39m.\u001b[39mChart(phone_calls)\u001b[39m.\u001b[39mmark_bar()\u001b[39m.\u001b[39mencode(\n\u001b[1;32m      3\u001b[0m     x\u001b[39m=\u001b[39m\u001b[39m'\u001b[39m\u001b[39mAgency:N\u001b[39m\u001b[39m'\u001b[39m,\n\u001b[1;32m      4\u001b[0m     y\u001b[39m=\u001b[39m\u001b[39m'\u001b[39m\u001b[39mcount()\u001b[39m\u001b[39m'\u001b[39m,\n\u001b[1;32m      5\u001b[0m )\n",
      "File \u001b[0;32m/opt/anaconda3/envs/datathinking.org/lib/python3.11/site-packages/IPython/core/displayhook.py:268\u001b[0m, in \u001b[0;36mDisplayHook.__call__\u001b[0;34m(self, result)\u001b[0m\n\u001b[1;32m    266\u001b[0m \u001b[39mself\u001b[39m\u001b[39m.\u001b[39mstart_displayhook()\n\u001b[1;32m    267\u001b[0m \u001b[39mself\u001b[39m\u001b[39m.\u001b[39mwrite_output_prompt()\n\u001b[0;32m--> 268\u001b[0m format_dict, md_dict \u001b[39m=\u001b[39m \u001b[39mself\u001b[39m\u001b[39m.\u001b[39mcompute_format_data(result)\n\u001b[1;32m    269\u001b[0m \u001b[39mself\u001b[39m\u001b[39m.\u001b[39mupdate_user_ns(result)\n\u001b[1;32m    270\u001b[0m \u001b[39mself\u001b[39m\u001b[39m.\u001b[39mfill_exec_result(result)\n",
      "File \u001b[0;32m/opt/anaconda3/envs/datathinking.org/lib/python3.11/site-packages/IPython/core/displayhook.py:157\u001b[0m, in \u001b[0;36mDisplayHook.compute_format_data\u001b[0;34m(self, result)\u001b[0m\n\u001b[1;32m    127\u001b[0m \u001b[39mdef\u001b[39;00m \u001b[39mcompute_format_data\u001b[39m(\u001b[39mself\u001b[39m, result):\n\u001b[1;32m    128\u001b[0m \u001b[39m    \u001b[39m\u001b[39m\"\"\"Compute format data of the object to be displayed.\u001b[39;00m\n\u001b[1;32m    129\u001b[0m \n\u001b[1;32m    130\u001b[0m \u001b[39m    The format data is a generalization of the :func:`repr` of an object.\u001b[39;00m\n\u001b[0;32m   (...)\u001b[0m\n\u001b[1;32m    155\u001b[0m \n\u001b[1;32m    156\u001b[0m \u001b[39m    \"\"\"\u001b[39;00m\n\u001b[0;32m--> 157\u001b[0m     \u001b[39mreturn\u001b[39;00m \u001b[39mself\u001b[39m\u001b[39m.\u001b[39mshell\u001b[39m.\u001b[39mdisplay_formatter\u001b[39m.\u001b[39mformat(result)\n",
      "File \u001b[0;32m/opt/anaconda3/envs/datathinking.org/lib/python3.11/site-packages/IPython/core/formatters.py:149\u001b[0m, in \u001b[0;36mDisplayFormatter.format\u001b[0;34m(self, obj, include, exclude)\u001b[0m\n\u001b[1;32m    145\u001b[0m \u001b[39mif\u001b[39;00m \u001b[39mself\u001b[39m\u001b[39m.\u001b[39mipython_display_formatter(obj):\n\u001b[1;32m    146\u001b[0m     \u001b[39m# object handled itself, don't proceed\u001b[39;00m\n\u001b[1;32m    147\u001b[0m     \u001b[39mreturn\u001b[39;00m {}, {}\n\u001b[0;32m--> 149\u001b[0m format_dict, md_dict \u001b[39m=\u001b[39m \u001b[39mself\u001b[39m\u001b[39m.\u001b[39mmimebundle_formatter(obj, include\u001b[39m=\u001b[39minclude, exclude\u001b[39m=\u001b[39mexclude)\n\u001b[1;32m    151\u001b[0m \u001b[39mif\u001b[39;00m format_dict \u001b[39mor\u001b[39;00m md_dict:\n\u001b[1;32m    152\u001b[0m     \u001b[39mif\u001b[39;00m include:\n",
      "File \u001b[0;32m/opt/anaconda3/envs/datathinking.org/lib/python3.11/site-packages/decorator.py:232\u001b[0m, in \u001b[0;36mdecorate.<locals>.fun\u001b[0;34m(*args, **kw)\u001b[0m\n\u001b[1;32m    230\u001b[0m \u001b[39mif\u001b[39;00m \u001b[39mnot\u001b[39;00m kwsyntax:\n\u001b[1;32m    231\u001b[0m     args, kw \u001b[39m=\u001b[39m fix(args, kw, sig)\n\u001b[0;32m--> 232\u001b[0m \u001b[39mreturn\u001b[39;00m caller(func, \u001b[39m*\u001b[39m(extras \u001b[39m+\u001b[39m args), \u001b[39m*\u001b[39m\u001b[39m*\u001b[39mkw)\n",
      "File \u001b[0;32m/opt/anaconda3/envs/datathinking.org/lib/python3.11/site-packages/IPython/core/formatters.py:223\u001b[0m, in \u001b[0;36mcatch_format_error\u001b[0;34m(method, self, *args, **kwargs)\u001b[0m\n\u001b[1;32m    221\u001b[0m \u001b[39m\u001b[39m\u001b[39m\"\"\"show traceback on failed format call\"\"\"\u001b[39;00m\n\u001b[1;32m    222\u001b[0m \u001b[39mtry\u001b[39;00m:\n\u001b[0;32m--> 223\u001b[0m     r \u001b[39m=\u001b[39m method(\u001b[39mself\u001b[39m, \u001b[39m*\u001b[39margs, \u001b[39m*\u001b[39m\u001b[39m*\u001b[39mkwargs)\n\u001b[1;32m    224\u001b[0m \u001b[39mexcept\u001b[39;00m \u001b[39mNotImplementedError\u001b[39;00m:\n\u001b[1;32m    225\u001b[0m     \u001b[39m# don't warn on NotImplementedErrors\u001b[39;00m\n\u001b[1;32m    226\u001b[0m     \u001b[39mreturn\u001b[39;00m \u001b[39mself\u001b[39m\u001b[39m.\u001b[39m_check_return(\u001b[39mNone\u001b[39;00m, args[\u001b[39m0\u001b[39m])\n",
      "File \u001b[0;32m/opt/anaconda3/envs/datathinking.org/lib/python3.11/site-packages/IPython/core/formatters.py:974\u001b[0m, in \u001b[0;36mMimeBundleFormatter.__call__\u001b[0;34m(self, obj, include, exclude)\u001b[0m\n\u001b[1;32m    971\u001b[0m     method \u001b[39m=\u001b[39m get_real_method(obj, \u001b[39mself\u001b[39m\u001b[39m.\u001b[39mprint_method)\n\u001b[1;32m    973\u001b[0m     \u001b[39mif\u001b[39;00m method \u001b[39mis\u001b[39;00m \u001b[39mnot\u001b[39;00m \u001b[39mNone\u001b[39;00m:\n\u001b[0;32m--> 974\u001b[0m         \u001b[39mreturn\u001b[39;00m method(include\u001b[39m=\u001b[39minclude, exclude\u001b[39m=\u001b[39mexclude)\n\u001b[1;32m    975\u001b[0m     \u001b[39mreturn\u001b[39;00m \u001b[39mNone\u001b[39;00m\n\u001b[1;32m    976\u001b[0m \u001b[39melse\u001b[39;00m:\n",
      "File \u001b[0;32m/opt/anaconda3/envs/datathinking.org/lib/python3.11/site-packages/altair/vegalite/v5/api.py:2161\u001b[0m, in \u001b[0;36mTopLevelMixin._repr_mimebundle_\u001b[0;34m(self, include, exclude)\u001b[0m\n\u001b[1;32m   2159\u001b[0m     \u001b[39mreturn\u001b[39;00m {}\n\u001b[1;32m   2160\u001b[0m \u001b[39melse\u001b[39;00m:\n\u001b[0;32m-> 2161\u001b[0m     \u001b[39mreturn\u001b[39;00m renderers\u001b[39m.\u001b[39mget()(dct)\n",
      "File \u001b[0;32m/opt/anaconda3/envs/datathinking.org/lib/python3.11/site-packages/toolz/functoolz.py:304\u001b[0m, in \u001b[0;36mcurry.__call__\u001b[0;34m(self, *args, **kwargs)\u001b[0m\n\u001b[1;32m    302\u001b[0m \u001b[39mdef\u001b[39;00m \u001b[39m__call__\u001b[39m(\u001b[39mself\u001b[39m, \u001b[39m*\u001b[39margs, \u001b[39m*\u001b[39m\u001b[39m*\u001b[39mkwargs):\n\u001b[1;32m    303\u001b[0m     \u001b[39mtry\u001b[39;00m:\n\u001b[0;32m--> 304\u001b[0m         \u001b[39mreturn\u001b[39;00m \u001b[39mself\u001b[39m\u001b[39m.\u001b[39m_partial(\u001b[39m*\u001b[39margs, \u001b[39m*\u001b[39m\u001b[39m*\u001b[39mkwargs)\n\u001b[1;32m    305\u001b[0m     \u001b[39mexcept\u001b[39;00m \u001b[39mTypeError\u001b[39;00m \u001b[39mas\u001b[39;00m exc:\n\u001b[1;32m    306\u001b[0m         \u001b[39mif\u001b[39;00m \u001b[39mself\u001b[39m\u001b[39m.\u001b[39m_should_curry(args, kwargs, exc):\n",
      "File \u001b[0;32m/opt/anaconda3/envs/datathinking.org/lib/python3.11/site-packages/vegafusion/renderer.py:19\u001b[0m, in \u001b[0;36mvegafusion_mime_renderer\u001b[0;34m(spec, mimetype, row_limit, embed_options)\u001b[0m\n\u001b[1;32m     18\u001b[0m \u001b[39mdef\u001b[39;00m \u001b[39mvegafusion_mime_renderer\u001b[39m(spec, mimetype\u001b[39m=\u001b[39m\u001b[39m\"\u001b[39m\u001b[39mhtml\u001b[39m\u001b[39m\"\u001b[39m, row_limit\u001b[39m=\u001b[39m\u001b[39mNone\u001b[39;00m, embed_options\u001b[39m=\u001b[39m\u001b[39mNone\u001b[39;00m):\n\u001b[0;32m---> 19\u001b[0m     \u001b[39mreturn\u001b[39;00m spec_to_mime_bundle(\n\u001b[1;32m     20\u001b[0m         spec,\n\u001b[1;32m     21\u001b[0m         mimetype\u001b[39m=\u001b[39mmimetype,\n\u001b[1;32m     22\u001b[0m         row_limit\u001b[39m=\u001b[39mrow_limit,\n\u001b[1;32m     23\u001b[0m         embed_options\u001b[39m=\u001b[39membed_options\n\u001b[1;32m     24\u001b[0m     )\n",
      "File \u001b[0;32m/opt/anaconda3/envs/datathinking.org/lib/python3.11/site-packages/vegafusion/renderer.py:40\u001b[0m, in \u001b[0;36mspec_to_mime_bundle\u001b[0;34m(spec, mimetype, row_limit, embed_options, html_template, full_html, scale)\u001b[0m\n\u001b[1;32m     37\u001b[0m vega_spec \u001b[39m=\u001b[39m vegalite_compilers\u001b[39m.\u001b[39mget()(spec)\n\u001b[1;32m     39\u001b[0m inline_datasets \u001b[39m=\u001b[39m transformer\u001b[39m.\u001b[39mget_inline_datasets_for_spec(vega_spec)\n\u001b[0;32m---> 40\u001b[0m tx_vega_spec, warnings \u001b[39m=\u001b[39m runtime\u001b[39m.\u001b[39mpre_transform_spec(\n\u001b[1;32m     41\u001b[0m     vega_spec,\n\u001b[1;32m     42\u001b[0m     local_tz\u001b[39m.\u001b[39mget_local_tz(),\n\u001b[1;32m     43\u001b[0m     row_limit\u001b[39m=\u001b[39mrow_limit,\n\u001b[1;32m     44\u001b[0m     inline_datasets\u001b[39m=\u001b[39minline_datasets\n\u001b[1;32m     45\u001b[0m )\n\u001b[1;32m     47\u001b[0m \u001b[39mfor\u001b[39;00m warning \u001b[39min\u001b[39;00m warnings:\n\u001b[1;32m     48\u001b[0m     \u001b[39mif\u001b[39;00m warning\u001b[39m.\u001b[39mget(\u001b[39m\"\u001b[39m\u001b[39mtype\u001b[39m\u001b[39m\"\u001b[39m, \u001b[39m\"\u001b[39m\u001b[39m\"\u001b[39m) \u001b[39m==\u001b[39m \u001b[39m\"\u001b[39m\u001b[39mRowLimitExceeded\u001b[39m\u001b[39m\"\u001b[39m:\n",
      "File \u001b[0;32m/opt/anaconda3/envs/datathinking.org/lib/python3.11/site-packages/vegafusion/runtime.py:222\u001b[0m, in \u001b[0;36mVegaFusionRuntime.pre_transform_spec\u001b[0;34m(self, spec, local_tz, default_input_tz, row_limit, preserve_interactivity, inline_datasets)\u001b[0m\n\u001b[1;32m    220\u001b[0m inline_arrow_dataset \u001b[39m=\u001b[39m \u001b[39mself\u001b[39m\u001b[39m.\u001b[39m_arrowify_or_register_inline_datasets(inline_datasets)\n\u001b[1;32m    221\u001b[0m \u001b[39mtry\u001b[39;00m:\n\u001b[0;32m--> 222\u001b[0m     new_spec, warnings \u001b[39m=\u001b[39m \u001b[39mself\u001b[39m\u001b[39m.\u001b[39membedded_runtime\u001b[39m.\u001b[39mpre_transform_spec(\n\u001b[1;32m    223\u001b[0m         spec,\n\u001b[1;32m    224\u001b[0m         local_tz\u001b[39m=\u001b[39mlocal_tz,\n\u001b[1;32m    225\u001b[0m         default_input_tz\u001b[39m=\u001b[39mdefault_input_tz,\n\u001b[1;32m    226\u001b[0m         row_limit\u001b[39m=\u001b[39mrow_limit,\n\u001b[1;32m    227\u001b[0m         preserve_interactivity\u001b[39m=\u001b[39mpreserve_interactivity,\n\u001b[1;32m    228\u001b[0m         inline_datasets\u001b[39m=\u001b[39minline_arrow_dataset\n\u001b[1;32m    229\u001b[0m     )\n\u001b[1;32m    230\u001b[0m \u001b[39mfinally\u001b[39;00m:\n\u001b[1;32m    231\u001b[0m     \u001b[39m# Clean up temporary tables\u001b[39;00m\n\u001b[1;32m    232\u001b[0m     \u001b[39mif\u001b[39;00m \u001b[39mself\u001b[39m\u001b[39m.\u001b[39m_connection \u001b[39mis\u001b[39;00m \u001b[39mnot\u001b[39;00m \u001b[39mNone\u001b[39;00m:\n",
      "\u001b[0;31mPanicException\u001b[0m: Failed to get node value: DataFusionError(SchemaError(FieldNotFound { field: Column { relation: None, name: \"Agency\" }, valid_fields: [Column { relation: None, name: \"_vf_order\" }, Column { relation: None, name: \"INDEX\" }, Column { relation: None, name: \"GISJOIN\" }, Column { relation: None, name: \"TYPE\" }, Column { relation: None, name: \"ADI_NATRANK\" }, Column { relation: None, name: \"ADI_STATERNK\" }, Column { relation: None, name: \"BENE_ZIP_CD\" }, Column { relation: None, name: \"FIPS\" }] }), ErrorContext { contexts: [] })"
     ]
    }
   ],
   "source": [
    "# Create a bar chart (NEEDS TO BE CHANGED FOR DIFFERENT DATASET)\n",
    "alt.Chart(phone_calls).mark_bar().encode(\n",
    "    x='Agency:N',\n",
    "    y='count()',\n",
    ")"
   ]
  },
  {
   "cell_type": "code",
   "execution_count": null,
   "metadata": {},
   "outputs": [],
   "source": [
    "# Filter out phone calls that don't have a location\n",
    "phone_calls = phone_calls.filter(\n",
    "    pl.col(\"Latitude\").is_not_null() & pl.col(\"Longitude\").is_not_null()\n",
    ")"
   ]
  },
  {
   "cell_type": "code",
   "execution_count": null,
   "metadata": {},
   "outputs": [],
   "source": [
    "# Plot the phone calls on a map\n",
    "alt.Chart(phone_calls[:10000]).mark_circle().encode(\n",
    "    longitude='Longitude:Q',\n",
    "    latitude='Latitude:Q',\n",
    "    size='count()',\n",
    "    color='count()',\n",
    "    tooltip=['Agency:N', 'Complaint Type:N', 'Descriptor:N', 'Location Type:N', 'Incident Zip:N', 'City:N', 'Borough:N']\n",
    ").project(\n",
    "    type='albersUsa'\n",
    ")"
   ]
  }
 ],
 "metadata": {
  "kernelspec": {
   "display_name": "datathinking.org",
   "language": "python",
   "name": "python3"
  },
  "language_info": {
   "codemirror_mode": {
    "name": "ipython",
    "version": 3
   },
   "file_extension": ".py",
   "mimetype": "text/x-python",
   "name": "python",
   "nbconvert_exporter": "python",
   "pygments_lexer": "ipython3",
   "version": "3.11.0"
  },
  "orig_nbformat": 4
 },
 "nbformat": 4,
 "nbformat_minor": 2
}
